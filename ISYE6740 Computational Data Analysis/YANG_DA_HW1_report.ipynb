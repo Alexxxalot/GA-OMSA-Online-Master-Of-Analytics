{
 "cells": [
  {
   "cell_type": "markdown",
   "metadata": {},
   "source": [
    "# ISYE 6740 Fall 2020\n",
    "# Homework 1\n",
    "\n",
    "##### By: Da Yang (dyang347@gatech.edu)\n"
   ]
  },
  {
   "cell_type": "markdown",
   "metadata": {},
   "source": [
    "## 1 Clustering [25 points]"
   ]
  },
  {
   "cell_type": "markdown",
   "metadata": {},
   "source": [
    "Given $m$ data points $\\text x^i$, $i=1,\\dots, m$, $K$-means clustering algorithm groups them into $k$ clusters by minimizing the distortion function over $\\{ r^{ij}, \\mu^j \\}$\n",
    "$$J=\\sum_{i=1}^m\\sum_{j=1}^k r^{ij} \\|\\text x^i-\\mu^j\\|^2,$$\n",
    "where $r^{ij}=1$ if $\\text x^i$ belongs to the $j$-th cluster and $r^{ij}=0$ otherwise.\n"
   ]
  },
  {
   "cell_type": "markdown",
   "metadata": {},
   "source": [
    "#### 1.1\n",
    "(5 points) Prove (using mathematical arguments) that using the squared Euclidean distance $\\|\\text x^i-\\mu^j\\|^2$ as the dissimilarity function and minimizing the distortion function, we will have \n",
    "   $$\\mu^j=\\frac{\\sum_i r^{ij} \\text x^i}{\\sum_i r^{ij}}.$$\n",
    "   That is, $\\mu^j$ is the center of $j$-th cluster. <br>\n",
    "   Hint: consider taken derivative of $J$ with respect to $\\mu^j$.\n",
    "   "
   ]
  },
  {
   "cell_type": "markdown",
   "metadata": {},
   "source": [
    "#### Answer 1.1"
   ]
  },
  {
   "cell_type": "markdown",
   "metadata": {},
   "source": [
    "For each iteration, the objective function $J$ decreases. <br>\n",
    "The derivative respect to $\\mu$ of the distortion function $J$ will be 0 when $J$ is minimized."
   ]
  },
  {
   "cell_type": "markdown",
   "metadata": {},
   "source": [
    "From objective function $J$:\n",
    "$$\\frac{\\partial J}{\\partial \\mu^j} = -2\\sum_{i=1}^m r^{ij}(x^i-\\mu^j) \\ \\ \\ \\ \\ \\forall j \\in \\{1...k\\} $$"
   ]
  },
  {
   "cell_type": "markdown",
   "metadata": {},
   "source": [
    "In order to set the derivative as 0:\n",
    "$$\\frac{\\partial J}{\\partial \\mu^j} = 0$$\n",
    "\n",
    "For each $j$:\n",
    "\n",
    "$$-2\\sum_{i=1}^m r^{ij}(x^i-\\mu^j) = 0$$"
   ]
  },
  {
   "cell_type": "markdown",
   "metadata": {},
   "source": [
    "It can be solved:\n",
    "\n",
    "$$\\mu^j = \\frac{\\sum_i r^{ij}x^i}{\\sum_i r^{ij}} \\ \\ \\ \\ \\ \\forall j \\in \\{1...k\\}$$"
   ]
  },
  {
   "cell_type": "markdown",
   "metadata": {},
   "source": [
    "#### 1.2 \n",
    "(5 points) Now suppose we replace the similarity function (the squared $\\ell_2$ distance here: $\\|\\text x^i-\\mu^j\\|^2$) by another distance measure, the quadratic distance (also known as the Mahalanobis distance) $d(x, y) = (\\text x - y)^T \\Sigma  (\\text x - y)$, where the given weight matrix $\\Sigma$ is symmetrical and positive definite (meaning that the corresponding $d(x, y) > 0$ when $x \\neq y$). \n",
    "\n",
    "(i) Show (prove) that the centroid in this case will be the same\n",
    "   $$\\mu^j=\\frac{\\sum_i r^{ij} \\text x^i}{\\sum_i r^{ij}}.$$\n",
    "(ii) However, the assignment function will be different -- comment how the assignment function $r^{ij}$ should be in this case. \n",
    "   Thus, the point is here that, depending on the similarity function, the results of $k$-means may be different.<br>\n",
    "   Hint: consider taken derivative of $J$ with respect to $\\mu^j$, and use the multivariate calculus rule that the derivative of $z^T \\Sigma z$ with respect to $z$ is given by $2\\Sigma z$. "
   ]
  },
  {
   "cell_type": "markdown",
   "metadata": {},
   "source": [
    "#### Answer 1.2"
   ]
  },
  {
   "cell_type": "markdown",
   "metadata": {},
   "source": [
    "The objective function $J$ based on the new quadratic distance is as below:\n",
    "\n",
    "$$J=\\sum_{i=1}^m\\sum_{j=1}^k r^{ij} d(x,\\mu)$$\n",
    "\n",
    "$$J=\\sum_{i=1}^m\\sum_{j=1}^k r^{ij} (\\text x^i - \\mu^j)^T \\Sigma  (\\text x^i - \\mu^j)$$\n",
    "\n",
    "\n",
    "\n",
    "\n",
    "For each iteration, the objective function $J$ decreases. <br>\n",
    "The derivative respect to $\\mu$ of the distortion function $J$ will be 0 when $J$ is minimized.\n",
    "\n",
    "$$\\frac{\\partial J}{\\partial \\mu^j} = 0$$\n",
    "\n"
   ]
  },
  {
   "cell_type": "markdown",
   "metadata": {},
   "source": [
    "By using multivariate calculus rule that the derivative of $z^T \\Sigma z$ with respect to $z$ is given by $2\\Sigma z$: <br>\n",
    "\n",
    "$$\\frac{\\partial J}{\\partial \\mu^j} = r^{ij}\\times2\\times\\Sigma(x^i - \\mu^j)\\ \\ \\ \\ \\ \\forall j \\in \\{1...k\\}$$"
   ]
  },
  {
   "cell_type": "markdown",
   "metadata": {},
   "source": [
    "With $\\Sigma$ as the given weight matrix, to solve:\n",
    "\n",
    "$$2\\Sigma r^{ij}(x^i-\\mu^j) = 0$$\n",
    "\n",
    "\n",
    "Will have the result:\n",
    "\n",
    "$$\\mu^j = \\frac{\\sum_i r^{ij}x^i}{\\sum_i r^{ij}} \\ \\ \\ \\ \\ \\forall j \\in \\{1...k\\}$$\n",
    "\n"
   ]
  },
  {
   "cell_type": "markdown",
   "metadata": {},
   "source": [
    "<font color='red'>\n",
    "Solution 1.2: change positive to negative\n",
    "    \n",
    "    \n",
    "\n",
    "$$\\frac{\\partial J}{\\partial \\mu^j} = -r^{ij}\\times2\\times\\Sigma(x^i - \\mu^j)\\ \\ \\ \\ \\ \\forall j \\in \\{1...k\\}$$\n",
    "\n",
    "\n",
    "\n",
    "</font>"
   ]
  },
  {
   "cell_type": "markdown",
   "metadata": {},
   "source": [
    "#### 1.3\n",
    "(5 points) Prove (using mathematical arguments) that $K$-means algorithm converges to a local optimum in finite steps. "
   ]
  },
  {
   "cell_type": "markdown",
   "metadata": {},
   "source": [
    "#### Answer 1.3:\n",
    "\n",
    "a). From the K-means algorithm, each step of algorithm decreases the objective function $J$ monotonically. <br>\n",
    "-- Cluster assignment will decrease $J$ by using $r^{ij}$ to assign $x^i$ based on the $min$ of similarity function <br>\n",
    "-- Center adjustment step will decrease by re-calculating the center point which will have the $min$ of the total cost <br>\n",
    "\n",
    "At the start of $t^{th}$ iteration:\n",
    "The 1st step assign point to cloest center:\n",
    "$$J(r_{t+1}, \\mu_t) \\leq J(r_t, \\mu_t)$$\n",
    "\n",
    "Then the 2nd step each cluster is re-centered to its mean:\n",
    "$$J(r_{t+1}, \\mu_{t+1}) \\leq J(r_{t+1}, \\mu_t)$$\n",
    "\n",
    "\n",
    "b). The objective function $J \\geq 0 $ so it has minimum value as 0\n",
    "\n",
    "\n",
    "c). For each $x$ in $x^i$, $i=1,\\dots, m$, there will be k methods to assign. So the total iteration is finite as $K^m$\n",
    "\n",
    "From above, $K$-means will converges to a local optimum in finite steps"
   ]
  },
  {
   "cell_type": "markdown",
   "metadata": {},
   "source": [
    "<font color='red'>\n",
    "Proof sketch: <br>\n",
    "1.There are limit number of total possible combination of the cluster assignments to the certain number of data points.<br>\n",
    "2. During each iteration, the cost function decreases monotonically.\n",
    "</font>"
   ]
  },
  {
   "cell_type": "markdown",
   "metadata": {},
   "source": [
    "#### 1.4\n",
    "(10 points) Calculate $k$-means by hands.  Given $5$ data points configuration in Figure 1. Assume $k = 2$ and use Manhattan distance (a.k.a. the $\\ell_1$ distance: given two 2-dimensional points $(x_1, y_1)$ and $(x_2, y_2)$, their distance is $|x_1 - x_2| + |y_1 - y_2|$).  Assuming the initialization of centroid as shown, after one iteration of k-means algorithm, answer the following questions. \n",
    "\n",
    "(a) Show the cluster assignment; <br>\n",
    "(b) Show the location of the new center; <br>\n",
    "(c) Will it terminate in one step? <br>\n"
   ]
  },
  {
   "attachments": {
    "points.png": {
     "image/png": "[encoded data removed]"
    }
   },
   "cell_type": "markdown",
   "metadata": {},
   "source": [
    "![points.png](attachment:points.png)"
   ]
  },
  {
   "cell_type": "markdown",
   "metadata": {},
   "source": [
    "#### Answer 1.4:\n",
    "\n",
    "(a)\n",
    "For each point, calculate the Manhattan distance to A and B then assign the point to the cloest center <br>\n",
    "Initial point: $A = (-3, -1), B = (2,1)$ <br>\n",
    "For $P1(2,2): d_A = (|2-(-3)|+|2-(-1)|=8; d_B = (|2-2|+|2-1|) = 1$ So $P1$ is assigned to B <br>\n",
    "For $P2(-1,1): d_A = (|-1-(-3)|+|1-(-1)|=4; d_B = (|-1-2|+|1-1|) = 3$ So $P2$ is assigned to B <br>\n",
    "For $P3(3,1): d_A = (|3-(-3)|+|1-(-1)|=8; d_B = (|3-2|+|1-1|) = 1$ So $P3$ is assigned to B <br>\n",
    "For $P4(0,-1): d_A = (|0-(-3)|+|-1-(-1)|=3; d_B = (|0-2|+|-1-1|) = 4$ So $P4$ is assigned to A <br>\n",
    "For $P5(-2,-2): d_A = (|-2-(-3)|+|-2-(-1)|=2; d_B = (|-2-2|+|-2-1|) = 7$ So $P5$ is assigned to A <br>\n",
    "\n",
    "Two clusters: $\\{P1, P2, P3\\}$ and $\\{P4, P5\\}$ <br>\n",
    "Calculate $J = d^1_B + d^2_B + d^3_B + d^4_A + d^5_A = 1 + 3 + 1 + 3 + 2 = 10$"
   ]
  },
  {
   "cell_type": "markdown",
   "metadata": {},
   "source": [
    "(b)\n",
    "Now we have $r^{ij}$ fixed, calculate $(\\mu_x, \\mu_y)$ to minimize $J$:\n",
    "\n",
    "$$J=\\sum_{i=1}^m\\sum_j r^{ij} ( |x^i-\\mu^j_x\\|+|y^i-\\mu^j_y|)$$\n",
    "\n",
    "$$J = (|x_1 - \\mu^B_x|+|y_1 - \\mu^B_y|) + (|x_2 - \\mu^B_x|+|y_2 - \\mu^B_y|) + (|x_3 - \\mu^B_x|+|y_3 - \\mu^B_y|) + (|x_4 - \\mu^A_x|+|y_4 - \\mu^A_y|) + (|x_5 - \\mu^A_x|+|y_5 - \\mu^A_y|)$$\n",
    "\n",
    "$$J = (|2 - \\mu^B_x|+|2 - \\mu^B_y|) + (|-1 - \\mu^B_x|+|1 - \\mu^B_y|) + (|3 - \\mu^B_x|+|1 - \\mu^A_y|) + (|0 - \\mu^A_x|+|-1 - \\mu^A_y|) + (|-2 - \\mu^A_x|+|-2 - \\mu^A_y|)$$\n",
    "\n",
    "In order to minimize $J$: <br>\n",
    "The calcualted new centers are: $\\mu^A = (-1, -1), \\mu^B = (2, 1)$, no change of center B because the related $J$ is already minimized\n",
    "\n",
    "$$J = 1 + 3 + 1 + 1 + 2 = 8$$"
   ]
  },
  {
   "cell_type": "markdown",
   "metadata": {},
   "source": [
    "(c) Calculate the next J to see if the centers move: <br>\n",
    "\n",
    "Step 1: <br>\n",
    "For $P1(2,2): d_A = (|2-(-1)|+|2-(-1)|=6; d_B = (|2-2|+|2-1|) = 1$ So $P1$ is assigned to B <br>\n",
    "For $P2(-1,1): d_A = (|-1-(-1)|+|1-(-1)|=2; d_B = (|-1-2|+|1-1|) = $ So $P2$ is re-assigned to A from B<br>\n",
    "For $P3(3,1): d_A = (|3-(-1)|+|1-(-1)|=6; d_B = (|3-2|+|1-1|) = 1$ So $P3$ is assigned to B <br>\n",
    "For $P4(0,-1): d_A = (|0-(-1)|+|-1-(-1)|=1; d_B = (|0-2|+|-1-1|) = 4$ So $P4$ is assigned to A <br>\n",
    "For $P5(-2,-2): d_A = (|-2-(-1)|+|-2-(-1)|=2; d_B = (|-2-2|+|-2-1|) = 7$ So $P5$ is assigned to A <br>\n",
    "\n",
    "From Step 1, $P2$ is now assigned from center B to center A. \n",
    "New clusters: $\\{P1, P3\\}$ and $\\{P2, P4, P5\\}$ <br>\n",
    "\n",
    "Step 2 to find new centers based on the new clusters:\n",
    "After calculation, the centers stay the same:  $\\mu^A = (-1, -1), \\mu^B = (2, 1)$\n",
    "The new Obejctive function $J = 1 + 2 + 1 + 1 + 2 = 7$\n",
    "\n",
    "It terminates after the second iteration because no change of the centroids. \n",
    "\n",
    "From above, the algorithm does not terminate in one step. It has a new center after step one then terminates in step 2."
   ]
  },
  {
   "cell_type": "markdown",
   "metadata": {},
   "source": [
    "## 2 Image compression using clustering [40 points]"
   ]
  },
  {
   "cell_type": "markdown",
   "metadata": {},
   "source": [
    "In this programming assignment, you are going to apply clustering algorithms for image compression. Your task is implementing the clustering parts with two algorithms: *$K$-means* and *$K$-medoids*. **It is required you implementing the algorithms yourself rather than calling from a package.** <br>\n",
    "\n",
    "*Before starting this assignment, we strongly recommend reading PRML Section 9.1.1, page 428 -- 430.*"
   ]
  },
  {
   "cell_type": "markdown",
   "metadata": {},
   "source": [
    "**$K$-medoids**\n",
    "\n",
    "In class, we learned that the basic $K$-means works in Euclidean space for computing distance between data points as well as for updating centroids by arithmetic mean. Sometimes, however, the dataset may work better with other distance measures. It is sometimes even impossible to compute arithmetic mean if a feature is categorical, e.g, gender or nationality of a person. With $K$-medoids, you choose a representative data point for each cluster instead of computing their average. Please note that $K$-medoid is different from generalized $K$-means: Generalized $K$-means still computes centre of a cluster is not necessarily one of the input data points (it is a point that minimizes the overall distance to all points in a cluster in a chosen distance metric). \n",
    "\n",
    "Given $m$ data points $\\text x^i (i = 1, \\ldots, m)$, $K$-medoids clustering algorithm groups them into $K$ clusters by minimizing the distortion function $J = \\sum_{i=1}^m \\sum_{j=1}^k r^{ij} D(\\text x^i, \\mu^j)$,\n",
    "where $D(\\text x, \\text y)$ is a distance measure between two vectors $\\text x$ and $\\text y$ in same size (in case of $K$-means, $D(x, y) = \\| \\text x - \\text y \\|^2$), $\\mu^j$ is the center of $j$-th cluster; and $r^{ij} = 1$ if $\\text x^n$ belongs to the $k$-th cluster and $r^{ij} = 0$ otherwise. In this exercise, we will use the following iterative procedure:\n"
   ]
  },
  {
   "cell_type": "markdown",
   "metadata": {},
   "source": [
    "* Initialize the cluster center $\\mu^j$, $j = 1, ..., k$.\n",
    "* Iterate until convergence: <br>\n",
    "    -- Update the cluster assignments for every data point $\\text x^i$: $r^{ij} = 1$ if $j = \\arg\\min_j D(\\text x^i, \\mu^j)$, and $r^{ij} = 0$ otherwise. <br>\n",
    "    -- Update the center for each cluster $j$: choosing another representative if necessary.\n",
    "    \n",
    "There can be many options to implement the procedure; for example, you can try many distance measures in addition to Euclidean distance, and also you can be creative for deciding a better representative of each cluster. We will not restrict these choices in this assignment. You are encouraged to try many distance measures as well as way of choosing representatives (e.g., $\\ell_1$ norm).\n"
   ]
  },
  {
   "cell_type": "markdown",
   "metadata": {},
   "source": [
    "#### Hand-in\n",
    "1. (10 points) Within the $k$-medoids framework, you have several choices for detailed implementation. Explain how you designed and implemented details of your $K$-medoids algorithm, including (but not limited to) how you chose representatives of each cluster, what distance measures you tried and chose one, or when you stopped iteration.\n",
    "2. (10 points) Attach a picture of your own. We recommend size of $320 \\times 240$ or smaller. Run your $k$-medoids implementation with the picture you chose, as well as two pictures provided (**beach.bmp** and **football.bmp**), with several different $K$. (e.g, small values like 2 or 3, large values like 16 or 32) What did you observe with different $K$? How long does it take to converge for each $K$? Please write in your report. \n",
    "3. (10 points) Run your $k$-medoids implementation with different initial centroids/representatives. Does it affect final result? Do you see same or different result for each trial with different initial assignments? (We usually randomize initial location of centroids in general. To answer this question, an intentional poor assignment may be useful.) Please write in your report. \n",
    "4. (10 points) Repeat question 2 and 3 with $k$-means. Do you see significant difference between $K$-medoids and $k$-means, in terms of output quality, robustness, or running time? Please write in your report. "
   ]
  },
  {
   "cell_type": "markdown",
   "metadata": {},
   "source": [
    "#### Answer"
   ]
  },
  {
   "cell_type": "markdown",
   "metadata": {},
   "source": [
    "#### Answer 2.1\n",
    "* Load the image as ndarray, reshape it into 2D array which means to stack all the pixels into one column. Divide the data by 255 to convert the data type from uint8 to float plus scale the numbers for easy computation\n",
    "* The initial points are selected randomly based on the value of K\n",
    "* I choose the eulidean distance as the final metrics. Assign the labels to the closest centers based on the euclidean distance for all the pixels\n",
    "* For K-medoids algorithm, it is to find the best representative in each cluster. In order to do that, it is required to computate all the euclidean distances between each pair of the pixels in each cluster. Due to the expensive computational cost, downsampling is used in the code function 're_calculate_centroid_sample' to only choose 15% of the data inside each cluster. The new centroid is calculated based on the best representative of the sample. \n",
    "* There is also special setup for empty cluster when K is large. It will automatically reset the cluster and centroid based on reassigned labels\n",
    "* At the same time, it also raised the issue that the monotonically descrease of the algorthrim will not be guaranteed because of the use of downsampling because each sample can be different. \n",
    "* To enhance the descrease trend, there is one more condition added in the function which is the calcualted total cost of sampling in each iteration needs to be smaller than the previoius iteration. Otherwise it will resample to calculate centroid to make sure the total cost can beat the exsiting cost. With the indroduction of this extra condition, it improves the cost reduction trend of each iteration but also takes more time to compute to find the smaller samping. It still has the risk that the representative centroids replies heavily on the random sampling process.\n",
    "* For the termination condition, it requires that the label changes of all points is less than 2% (98% of the points should be remained unchanged) and the total cost reduction is more than 0 but smaller than 5%. When the condition is stricted, due to the downsampling, it can take longer time to find the new centroids \n",
    "* For the last step, it will assign the best centroid pixel to all the pixels in each cluster and restructure the arrays to the final images."
   ]
  },
  {
   "cell_type": "markdown",
   "metadata": {},
   "source": [
    "#### Answer 2.2\n",
    "After running with different pictures with different K:\n",
    "* The generated image is clearer with larger K\n",
    "* The total cost is decreasing when K is increasing\n",
    "* For my function, it takes about 10 iteration to terminate and meet the requirements."
   ]
  },
  {
   "cell_type": "markdown",
   "metadata": {},
   "source": [
    "#### Answer 2.3\n",
    "With the coding, I designed a special input variable to choose either using random starting point or giving specific index of the starting point. I tested with extreme cases that only use the first K pixels as the starting point. As a result, when K is large, there is no obvious difference observed. However, when K is small like 2 or 3, extreme point will have a impact that the image are not that clear in my test.\n",
    "\n",
    "Per coding implementation, for some of the extreme K selection, there might be empty clustering. In this case, the code will remove the empty clustering point.\n",
    "\n",
    "Regarding to the cost, the random selected K will have a better total cost at the end in some cases comparing to extreme points. It means the starting point can be sensitive."
   ]
  },
  {
   "cell_type": "markdown",
   "metadata": {},
   "source": [
    "#### Answer 2.4\n",
    "Implemented K means algorithm in the coding, in the case of k means, it does not need to do downsampling. \n",
    "After the initial K is given, the new centroid will be calcualted based on the mean of all the pixels in each cluster.\n",
    "The overall running time using Kmeans is much faster than the K-medoids coding. \n",
    "In random selected starting point, Kmediods can be better becasuse Kmeans is sensitive to the outliers when calculating the centroids so Kmedoids can be more robust. On the other hand, when in extreme starting points cases, Kmeans can be better\n"
   ]
  },
  {
   "cell_type": "markdown",
   "metadata": {},
   "source": [
    "## Political blogs dataset [35 points]"
   ]
  },
  {
   "cell_type": "markdown",
   "metadata": {},
   "source": [
    "We will study a political blogs dataset first compiled for the paper Lada A. Adamic and Natalie Glance, \"The political blogosphere and the 2004 US Election\", in Proceedings of the WWW-2005 Workshop on the Weblogging Ecosystem (2005). The dataset **nodes.txt** contains a graph with $n = 1490$ vertices (\"nodes\") corresponding to political blogs. Each vertex has a 0-1 label (in the 3rd column) corresponding to the political orientation of that blog. We will consider this as the true label and try to reconstruct the true label from the graph using the spectral clustering on the graph. The dataset **edges.txt** contains edges between the vertices. You may remove isolated nodes (nodes that are not connected any other nodes). "
   ]
  },
  {
   "cell_type": "markdown",
   "metadata": {},
   "source": [
    "1. (5 points)  Assume the number of clusters in the graph is $k$. Explain the meaning of $k$ here intuitively. \n",
    "2. (10 points) Use spectral clustering to find the $k = 2$, $k = 3$, and $k = 4$ clusters in the network of political blogs (each node is a blog, and their edges are defined in the file **edges.txt**. **We will treat the network as an undirectly graph; thus, when constructing the adjacency matrix, make sure to it is symmetrical.** Then report the majority labels in each cluster, when $k = 2, 3, 4$, respectively. For example, if there are $k = 2$ clusters, and their labels are $\\{0, 1, 1, 1\\}$ and $\\{0, 0, 1\\}$ then the majority label for the first cluster is 1 and for the second cluster is 0. **It is required you implementing the algorithms yourself rather than calling from a package.**\n",
    "\n",
    "3. (5 points) Now compare the majority label with the individual labels in each cluster, and report the {\\it mismatch rate} for each cluster, when $k = 2, 3, 4$. For instance, in the example above, the mismatch rate for the first cluster is 1/4 (only the first node differs from the majority) and the the second cluster is 1/3. \n",
    "\n",
    "4. (10 points) Now tune your $k$ and find the number of clusters to achieve a reasonably small {\\it mismatch rate}. Please explain how you tune $k$ and what is the achieved mismatch rate.  \n",
    "\n",
    "5. (5 points) Please explain the finding and what can you learn from this data analysis (e.g., node within same community tend to share the same political view, or now? Did you find blogs that share the same political view more tightly connected than otherwise?)\n"
   ]
  },
  {
   "cell_type": "markdown",
   "metadata": {},
   "source": [
    "#### Will defer Question 3 to HW2"
   ]
  }
 ],
 "metadata": {
  "kernelspec": {
   "display_name": "Python 3",
   "language": "python",
   "name": "python3"
  },
  "language_info": {
   "codemirror_mode": {
    "name": "ipython",
    "version": 3
   },
   "file_extension": ".py",
   "mimetype": "text/x-python",
   "name": "python",
   "nbconvert_exporter": "python",
   "pygments_lexer": "ipython3",
   "version": "3.8.3"
  }
 },
 "nbformat": 4,
 "nbformat_minor": 4
}
