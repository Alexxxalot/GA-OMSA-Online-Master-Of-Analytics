{
 "cells": [
  {
   "cell_type": "markdown",
   "metadata": {},
   "source": [
    "## Political blogs dataset [35 points]\n",
    "We will study a political blogs dataset first compiled for the paper Lada A. Adamic and Natalie Glance, \"The political blogosphere and the 2004 US Election\", in Proceedings of the WWW-2005 Workshop on the Weblogging Ecosystem (2005). The dataset **nodes.txt** contains a graph with $n = 1490$ vertices (\"nodes\") corresponding to political blogs. Each vertex has a 0-1 label (in the 3rd column) corresponding to the political orientation of that blog. We will consider this as the true label and try to reconstruct the true label from the graph using the spectral clustering on the graph. The dataset **edges.txt** contains edges between the vertices. You may remove isolated nodes (nodes that are not connected any other nodes). "
   ]
  },
  {
   "cell_type": "markdown",
   "metadata": {},
   "source": [
    "1. (5 points)  Assume the number of clusters in the graph is $k$. Explain the meaning of $k$ here intuitively. \n",
    "2. (10 points) Use spectral clustering to find the $k = 2$, $k = 3$, and $k = 4$ clusters in the network of political blogs (each node is a blog, and their edges are defined in the file **edges.txt**. **We will treat the network as an undirectly graph; thus, when constructing the adjacency matrix, make sure to it is symmetrical.** Then report the majority labels in each cluster, when $k = 2, 3, 4$, respectively. For example, if there are $k = 2$ clusters, and their labels are $\\{0, 1, 1, 1\\}$ and $\\{0, 0, 1\\}$ then the majority label for the first cluster is 1 and for the second cluster is 0. **It is required you implementing the algorithms yourself rather than calling from a package.**\n",
    "\n",
    "3. (5 points) Now compare the majority label with the individual labels in each cluster, and report the **mismatch rate** for each cluster, when $k = 2, 3, 4$. For instance, in the example above, the mismatch rate for the first cluster is 1/4 (only the first node differs from the majority) and the the second cluster is 1/3. \n",
    "\n",
    "4. (10 points) Now tune your $k$ and find the number of clusters to achieve a reasonably small **mismatch rate**. Please explain how you tune $k$ and what is the achieved mismatch rate.  \n",
    "\n",
    "5. (5 points) Please explain the finding and what can you learn from this data analysis (e.g., node within same community tend to share the same political view, or now? Did you find blogs that share the same political view more tightly connected than otherwise?)"
   ]
  },
  {
   "cell_type": "markdown",
   "metadata": {},
   "source": [
    "<br>\n",
    "\n",
    "### Answer"
   ]
  },
  {
   "cell_type": "markdown",
   "metadata": {},
   "source": [
    "#### 3.1\n",
    "\n",
    "In spectral clustering, k is the number of clustering based on the graph edges and nodes. The algorithm divides the bloggers into k different groups regarding to the connectivity. Within each clustering, we are looking for bloggers who have the same true label."
   ]
  },
  {
   "attachments": {},
   "cell_type": "markdown",
   "metadata": {},
   "source": [
    "#### 3.2 - Please see attached Coding report"
   ]
  },
  {
   "cell_type": "markdown",
   "metadata": {},
   "source": [
    "#### 3.3\n",
    "\n",
    "Calculated mismatch rate for K from 2 to 100. "
   ]
  },
  {
   "attachments": {
    "SpectralClustering.png": {
     "image/png": "[encoded data removed]"
    }
   },
   "cell_type": "markdown",
   "metadata": {},
   "source": [
    "![SpectralClustering.png](attachment:SpectralClustering.png)"
   ]
  },
  {
   "cell_type": "markdown",
   "metadata": {},
   "source": [
    "K = 2\n",
    "{0: {'mis_rate': 0.4795417348608838, 'size': 1222},\n",
    " 1: {'mis_rate': 0.0, 'size': 2}}\n",
    " \n",
    "K = 3\n",
    "{0: {'mis_rate': 0.4795417348608838, 'size': 1222},\n",
    " 2: {'mis_rate': 0.0, 'size': 1},\n",
    " 1: {'mis_rate': 0.0, 'size': 1}}\n",
    " \n",
    "K = 4\n",
    "{0: {'mis_rate': 0.48026315789473684, 'size': 1216},\n",
    " 2: {'mis_rate': 0.0, 'size': 1},\n",
    " 1: {'mis_rate': 0.33333333333333337, 'size': 6},\n",
    " 3: {'mis_rate': 0.0, 'size': 1}}\n",
    " \n",
    "K = 5\n",
    "{4: {'mis_rate': 0.02409638554216864, 'size': 83},\n",
    " 0: {'mis_rate': 0.025380710659898442, 'size': 591},\n",
    " 1: {'mis_rate': 0.02145922746781115, 'size': 466},\n",
    " 2: {'mis_rate': 0.42105263157894735, 'size': 76},\n",
    " 3: {'mis_rate': 0.5, 'size': 8}}"
   ]
  },
  {
   "cell_type": "markdown",
   "metadata": {},
   "source": [
    "#### 3.4\n",
    "\n",
    "From the above graph, the mismatch rate is very low level when K is above 4. \n",
    "I tried to use different K scenarios to find the best range of K with low mismatch rate. \n",
    "It means that we can safely divide the bloggers into at least 5 different groups. Within each group, the bloggers tend to have the same true labeling."
   ]
  },
  {
   "cell_type": "markdown",
   "metadata": {},
   "source": [
    "#### 3.5\n",
    "\n",
    "The bloggers that in the same clustering group tend to share same political views and tends to share with each other. They are more tightly connected and influenced by each other. In this way, they will have close connection more and more."
   ]
  }
 ],
 "metadata": {
  "kernelspec": {
   "display_name": "Python 3",
   "language": "python",
   "name": "python3"
  },
  "language_info": {
   "codemirror_mode": {
    "name": "ipython",
    "version": 3
   },
   "file_extension": ".py",
   "mimetype": "text/x-python",
   "name": "python",
   "nbconvert_exporter": "python",
   "pygments_lexer": "ipython3",
   "version": "3.8.3"
  }
 },
 "nbformat": 4,
 "nbformat_minor": 4
}
