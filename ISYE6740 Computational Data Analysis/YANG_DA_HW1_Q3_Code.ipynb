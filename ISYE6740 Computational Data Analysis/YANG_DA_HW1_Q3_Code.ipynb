{
 "cells": [
  {
   "cell_type": "markdown",
   "metadata": {},
   "source": [
    "## Political blogs dataset [35 points]"
   ]
  },
  {
   "cell_type": "markdown",
   "metadata": {},
   "source": [
    "We will study a political blogs dataset first compiled for the paper Lada A. Adamic and Natalie Glance, \"The political blogosphere and the 2004 US Election\", in Proceedings of the WWW-2005 Workshop on the Weblogging Ecosystem (2005). The dataset **nodes.txt** contains a graph with $n = 1490$ vertices (\"nodes\") corresponding to political blogs. Each vertex has a 0-1 label (in the 3rd column) corresponding to the political orientation of that blog. We will consider this as the true label and try to reconstruct the true label from the graph using the spectral clustering on the graph. The dataset **edges.txt** contains edges between the vertices. You may remove isolated nodes (nodes that are not connected any other nodes). "
   ]
  },
  {
   "cell_type": "markdown",
   "metadata": {},
   "source": [
    "1. (5 points)  Assume the number of clusters in the graph is $k$. Explain the meaning of $k$ here intuitively. \n",
    "2. (10 points) Use spectral clustering to find the $k = 2$, $k = 3$, and $k = 4$ clusters in the network of political blogs (each node is a blog, and their edges are defined in the file **edges.txt**. **We will treat the network as an undirectly graph; thus, when constructing the adjacency matrix, make sure to it is symmetrical.** Then report the majority labels in each cluster, when $k = 2, 3, 4$, respectively. For example, if there are $k = 2$ clusters, and their labels are $\\{0, 1, 1, 1\\}$ and $\\{0, 0, 1\\}$ then the majority label for the first cluster is 1 and for the second cluster is 0. **It is required you implementing the algorithms yourself rather than calling from a package.**\n",
    "\n",
    "3. (5 points) Now compare the majority label with the individual labels in each cluster, and report the **mismatch rate** for each cluster, when $k = 2, 3, 4$. For instance, in the example above, the mismatch rate for the first cluster is 1/4 (only the first node differs from the majority) and the the second cluster is 1/3. \n",
    "\n",
    "4. (10 points) Now tune your $k$ and find the number of clusters to achieve a reasonably small **mismatch rate**. Please explain how you tune $k$ and what is the achieved mismatch rate.  \n",
    "\n",
    "5. (5 points) Please explain the finding and what can you learn from this data analysis (e.g., node within same community tend to share the same political view, or now? Did you find blogs that share the same political view more tightly connected than otherwise?)"
   ]
  },
  {
   "cell_type": "code",
   "execution_count": 399,
   "metadata": {},
   "outputs": [],
   "source": [
    "import pandas as pd\n",
    "import numpy as np\n",
    "from scipy.sparse import coo_matrix,spdiags\n",
    "from scipy.sparse.linalg import eigsh, svds\n",
    "from matplotlib.pyplot import figure, subplots\n",
    "import matplotlib.pyplot as plt\n",
    "from sklearn.cluster import KMeans\n",
    "%matplotlib inline"
   ]
  },
  {
   "cell_type": "code",
   "execution_count": 59,
   "metadata": {},
   "outputs": [],
   "source": [
    "df_nodes = pd.read_csv(\"nodes.txt\", sep=\"\\t\", header = None)\n",
    "df_edge = pd.read_csv(\"edges.txt\", sep=\"\\t\", header = None)"
   ]
  },
  {
   "cell_type": "code",
   "execution_count": 60,
   "metadata": {
    "scrolled": true
   },
   "outputs": [
    {
     "data": {
      "text/html": [
       "<div>\n",
       "<style scoped>\n",
       "    .dataframe tbody tr th:only-of-type {\n",
       "        vertical-align: middle;\n",
       "    }\n",
       "\n",
       "    .dataframe tbody tr th {\n",
       "        vertical-align: top;\n",
       "    }\n",
       "\n",
       "    .dataframe thead th {\n",
       "        text-align: right;\n",
       "    }\n",
       "</style>\n",
       "<table border=\"1\" class=\"dataframe\">\n",
       "  <thead>\n",
       "    <tr style=\"text-align: right;\">\n",
       "      <th></th>\n",
       "      <th>0</th>\n",
       "      <th>1</th>\n",
       "      <th>2</th>\n",
       "      <th>3</th>\n",
       "    </tr>\n",
       "  </thead>\n",
       "  <tbody>\n",
       "    <tr>\n",
       "      <th>0</th>\n",
       "      <td>1</td>\n",
       "      <td>100monkeystyping.com</td>\n",
       "      <td>0</td>\n",
       "      <td>Blogarama</td>\n",
       "    </tr>\n",
       "    <tr>\n",
       "      <th>1</th>\n",
       "      <td>2</td>\n",
       "      <td>12thharmonic.com/wordpress</td>\n",
       "      <td>0</td>\n",
       "      <td>BlogCatalog</td>\n",
       "    </tr>\n",
       "    <tr>\n",
       "      <th>2</th>\n",
       "      <td>3</td>\n",
       "      <td>40ozblog.blogspot.com</td>\n",
       "      <td>0</td>\n",
       "      <td>Blogarama,BlogCatalog</td>\n",
       "    </tr>\n",
       "    <tr>\n",
       "      <th>3</th>\n",
       "      <td>4</td>\n",
       "      <td>4lina.tblog.com</td>\n",
       "      <td>0</td>\n",
       "      <td>Blogarama</td>\n",
       "    </tr>\n",
       "    <tr>\n",
       "      <th>4</th>\n",
       "      <td>5</td>\n",
       "      <td>750volts.blogspot.com</td>\n",
       "      <td>0</td>\n",
       "      <td>Blogarama</td>\n",
       "    </tr>\n",
       "  </tbody>\n",
       "</table>\n",
       "</div>"
      ],
      "text/plain": [
       "   0                           1  2                      3\n",
       "0  1        100monkeystyping.com  0              Blogarama\n",
       "1  2  12thharmonic.com/wordpress  0            BlogCatalog\n",
       "2  3       40ozblog.blogspot.com  0  Blogarama,BlogCatalog\n",
       "3  4             4lina.tblog.com  0              Blogarama\n",
       "4  5       750volts.blogspot.com  0              Blogarama"
      ]
     },
     "execution_count": 60,
     "metadata": {},
     "output_type": "execute_result"
    }
   ],
   "source": [
    "df_nodes.head()"
   ]
  },
  {
   "cell_type": "code",
   "execution_count": 61,
   "metadata": {},
   "outputs": [],
   "source": [
    "df_nodes.columns = ['ID','Blog','Label','Orientation']"
   ]
  },
  {
   "cell_type": "code",
   "execution_count": 62,
   "metadata": {},
   "outputs": [
    {
     "data": {
      "text/html": [
       "<div>\n",
       "<style scoped>\n",
       "    .dataframe tbody tr th:only-of-type {\n",
       "        vertical-align: middle;\n",
       "    }\n",
       "\n",
       "    .dataframe tbody tr th {\n",
       "        vertical-align: top;\n",
       "    }\n",
       "\n",
       "    .dataframe thead th {\n",
       "        text-align: right;\n",
       "    }\n",
       "</style>\n",
       "<table border=\"1\" class=\"dataframe\">\n",
       "  <thead>\n",
       "    <tr style=\"text-align: right;\">\n",
       "      <th></th>\n",
       "      <th>ID</th>\n",
       "      <th>Blog</th>\n",
       "      <th>Label</th>\n",
       "      <th>Orientation</th>\n",
       "    </tr>\n",
       "  </thead>\n",
       "  <tbody>\n",
       "    <tr>\n",
       "      <th>0</th>\n",
       "      <td>1</td>\n",
       "      <td>100monkeystyping.com</td>\n",
       "      <td>0</td>\n",
       "      <td>Blogarama</td>\n",
       "    </tr>\n",
       "    <tr>\n",
       "      <th>1</th>\n",
       "      <td>2</td>\n",
       "      <td>12thharmonic.com/wordpress</td>\n",
       "      <td>0</td>\n",
       "      <td>BlogCatalog</td>\n",
       "    </tr>\n",
       "    <tr>\n",
       "      <th>2</th>\n",
       "      <td>3</td>\n",
       "      <td>40ozblog.blogspot.com</td>\n",
       "      <td>0</td>\n",
       "      <td>Blogarama,BlogCatalog</td>\n",
       "    </tr>\n",
       "    <tr>\n",
       "      <th>3</th>\n",
       "      <td>4</td>\n",
       "      <td>4lina.tblog.com</td>\n",
       "      <td>0</td>\n",
       "      <td>Blogarama</td>\n",
       "    </tr>\n",
       "    <tr>\n",
       "      <th>4</th>\n",
       "      <td>5</td>\n",
       "      <td>750volts.blogspot.com</td>\n",
       "      <td>0</td>\n",
       "      <td>Blogarama</td>\n",
       "    </tr>\n",
       "  </tbody>\n",
       "</table>\n",
       "</div>"
      ],
      "text/plain": [
       "   ID                        Blog  Label            Orientation\n",
       "0   1        100monkeystyping.com      0              Blogarama\n",
       "1   2  12thharmonic.com/wordpress      0            BlogCatalog\n",
       "2   3       40ozblog.blogspot.com      0  Blogarama,BlogCatalog\n",
       "3   4             4lina.tblog.com      0              Blogarama\n",
       "4   5       750volts.blogspot.com      0              Blogarama"
      ]
     },
     "execution_count": 62,
     "metadata": {},
     "output_type": "execute_result"
    }
   ],
   "source": [
    "df_nodes.head()"
   ]
  },
  {
   "cell_type": "code",
   "execution_count": 63,
   "metadata": {},
   "outputs": [
    {
     "data": {
      "text/plain": [
       "(1490, 4)"
      ]
     },
     "execution_count": 63,
     "metadata": {},
     "output_type": "execute_result"
    }
   ],
   "source": [
    "df_nodes.shape"
   ]
  },
  {
   "cell_type": "code",
   "execution_count": 64,
   "metadata": {},
   "outputs": [
    {
     "data": {
      "text/html": [
       "<div>\n",
       "<style scoped>\n",
       "    .dataframe tbody tr th:only-of-type {\n",
       "        vertical-align: middle;\n",
       "    }\n",
       "\n",
       "    .dataframe tbody tr th {\n",
       "        vertical-align: top;\n",
       "    }\n",
       "\n",
       "    .dataframe thead th {\n",
       "        text-align: right;\n",
       "    }\n",
       "</style>\n",
       "<table border=\"1\" class=\"dataframe\">\n",
       "  <thead>\n",
       "    <tr style=\"text-align: right;\">\n",
       "      <th></th>\n",
       "      <th>0</th>\n",
       "      <th>1</th>\n",
       "    </tr>\n",
       "  </thead>\n",
       "  <tbody>\n",
       "    <tr>\n",
       "      <th>0</th>\n",
       "      <td>267</td>\n",
       "      <td>1394</td>\n",
       "    </tr>\n",
       "    <tr>\n",
       "      <th>1</th>\n",
       "      <td>267</td>\n",
       "      <td>483</td>\n",
       "    </tr>\n",
       "    <tr>\n",
       "      <th>2</th>\n",
       "      <td>267</td>\n",
       "      <td>1051</td>\n",
       "    </tr>\n",
       "    <tr>\n",
       "      <th>3</th>\n",
       "      <td>904</td>\n",
       "      <td>1479</td>\n",
       "    </tr>\n",
       "    <tr>\n",
       "      <th>4</th>\n",
       "      <td>904</td>\n",
       "      <td>919</td>\n",
       "    </tr>\n",
       "  </tbody>\n",
       "</table>\n",
       "</div>"
      ],
      "text/plain": [
       "     0     1\n",
       "0  267  1394\n",
       "1  267   483\n",
       "2  267  1051\n",
       "3  904  1479\n",
       "4  904   919"
      ]
     },
     "execution_count": 64,
     "metadata": {},
     "output_type": "execute_result"
    }
   ],
   "source": [
    "df_edge.head()"
   ]
  },
  {
   "cell_type": "code",
   "execution_count": 65,
   "metadata": {},
   "outputs": [
    {
     "data": {
      "text/html": [
       "<div>\n",
       "<style scoped>\n",
       "    .dataframe tbody tr th:only-of-type {\n",
       "        vertical-align: middle;\n",
       "    }\n",
       "\n",
       "    .dataframe tbody tr th {\n",
       "        vertical-align: top;\n",
       "    }\n",
       "\n",
       "    .dataframe thead th {\n",
       "        text-align: right;\n",
       "    }\n",
       "</style>\n",
       "<table border=\"1\" class=\"dataframe\">\n",
       "  <thead>\n",
       "    <tr style=\"text-align: right;\">\n",
       "      <th></th>\n",
       "      <th>ID_1</th>\n",
       "      <th>ID_2</th>\n",
       "    </tr>\n",
       "  </thead>\n",
       "  <tbody>\n",
       "    <tr>\n",
       "      <th>0</th>\n",
       "      <td>267</td>\n",
       "      <td>1394</td>\n",
       "    </tr>\n",
       "    <tr>\n",
       "      <th>1</th>\n",
       "      <td>267</td>\n",
       "      <td>483</td>\n",
       "    </tr>\n",
       "    <tr>\n",
       "      <th>2</th>\n",
       "      <td>267</td>\n",
       "      <td>1051</td>\n",
       "    </tr>\n",
       "    <tr>\n",
       "      <th>3</th>\n",
       "      <td>904</td>\n",
       "      <td>1479</td>\n",
       "    </tr>\n",
       "    <tr>\n",
       "      <th>4</th>\n",
       "      <td>904</td>\n",
       "      <td>919</td>\n",
       "    </tr>\n",
       "  </tbody>\n",
       "</table>\n",
       "</div>"
      ],
      "text/plain": [
       "   ID_1  ID_2\n",
       "0   267  1394\n",
       "1   267   483\n",
       "2   267  1051\n",
       "3   904  1479\n",
       "4   904   919"
      ]
     },
     "execution_count": 65,
     "metadata": {},
     "output_type": "execute_result"
    }
   ],
   "source": [
    "df_edge.columns = ['ID_1','ID_2']\n",
    "df_edge.head()"
   ]
  },
  {
   "cell_type": "code",
   "execution_count": 66,
   "metadata": {},
   "outputs": [],
   "source": [
    "df_edge['connection'] = 1"
   ]
  },
  {
   "cell_type": "code",
   "execution_count": 157,
   "metadata": {},
   "outputs": [],
   "source": [
    "df_edge_2 = df_edge.copy()\n",
    "df_edge_2.columns = ['ID_2', 'ID_1','connection']"
   ]
  },
  {
   "cell_type": "code",
   "execution_count": 416,
   "metadata": {},
   "outputs": [
    {
     "data": {
      "text/plain": [
       "(33433, 3)"
      ]
     },
     "execution_count": 416,
     "metadata": {},
     "output_type": "execute_result"
    }
   ],
   "source": [
    "df_edge_3 = df_edge.append(df_edge_2)\n",
    "df_edge_clean = df_edge_3[df_edge_3.duplicated()==False]\n",
    "df_edge_clean.shape"
   ]
  },
  {
   "cell_type": "code",
   "execution_count": 329,
   "metadata": {},
   "outputs": [
    {
     "data": {
      "text/html": [
       "<div>\n",
       "<style scoped>\n",
       "    .dataframe tbody tr th:only-of-type {\n",
       "        vertical-align: middle;\n",
       "    }\n",
       "\n",
       "    .dataframe tbody tr th {\n",
       "        vertical-align: top;\n",
       "    }\n",
       "\n",
       "    .dataframe thead th {\n",
       "        text-align: right;\n",
       "    }\n",
       "</style>\n",
       "<table border=\"1\" class=\"dataframe\">\n",
       "  <thead>\n",
       "    <tr style=\"text-align: right;\">\n",
       "      <th></th>\n",
       "      <th>ID_1</th>\n",
       "      <th>ID_2</th>\n",
       "      <th>connection</th>\n",
       "    </tr>\n",
       "  </thead>\n",
       "  <tbody>\n",
       "    <tr>\n",
       "      <th>0</th>\n",
       "      <td>267</td>\n",
       "      <td>1394</td>\n",
       "      <td>1</td>\n",
       "    </tr>\n",
       "    <tr>\n",
       "      <th>1</th>\n",
       "      <td>267</td>\n",
       "      <td>483</td>\n",
       "      <td>1</td>\n",
       "    </tr>\n",
       "    <tr>\n",
       "      <th>2</th>\n",
       "      <td>267</td>\n",
       "      <td>1051</td>\n",
       "      <td>1</td>\n",
       "    </tr>\n",
       "    <tr>\n",
       "      <th>3</th>\n",
       "      <td>904</td>\n",
       "      <td>1479</td>\n",
       "      <td>1</td>\n",
       "    </tr>\n",
       "    <tr>\n",
       "      <th>4</th>\n",
       "      <td>904</td>\n",
       "      <td>919</td>\n",
       "      <td>1</td>\n",
       "    </tr>\n",
       "  </tbody>\n",
       "</table>\n",
       "</div>"
      ],
      "text/plain": [
       "   ID_1  ID_2  connection\n",
       "0   267  1394           1\n",
       "1   267   483           1\n",
       "2   267  1051           1\n",
       "3   904  1479           1\n",
       "4   904   919           1"
      ]
     },
     "execution_count": 329,
     "metadata": {},
     "output_type": "execute_result"
    }
   ],
   "source": [
    "df_edge_clean.head()"
   ]
  },
  {
   "cell_type": "code",
   "execution_count": 366,
   "metadata": {},
   "outputs": [],
   "source": [
    "node_arr = df_edge_clean['ID_1'].append(df_edge_clean['ID_2']).unique()"
   ]
  },
  {
   "cell_type": "code",
   "execution_count": 419,
   "metadata": {},
   "outputs": [
    {
     "data": {
      "text/html": [
       "<div>\n",
       "<style scoped>\n",
       "    .dataframe tbody tr th:only-of-type {\n",
       "        vertical-align: middle;\n",
       "    }\n",
       "\n",
       "    .dataframe tbody tr th {\n",
       "        vertical-align: top;\n",
       "    }\n",
       "\n",
       "    .dataframe thead th {\n",
       "        text-align: right;\n",
       "    }\n",
       "</style>\n",
       "<table border=\"1\" class=\"dataframe\">\n",
       "  <thead>\n",
       "    <tr style=\"text-align: right;\">\n",
       "      <th></th>\n",
       "      <th>index</th>\n",
       "      <th>ID</th>\n",
       "    </tr>\n",
       "  </thead>\n",
       "  <tbody>\n",
       "    <tr>\n",
       "      <th>0</th>\n",
       "      <td>0</td>\n",
       "      <td>267</td>\n",
       "    </tr>\n",
       "    <tr>\n",
       "      <th>1</th>\n",
       "      <td>1</td>\n",
       "      <td>904</td>\n",
       "    </tr>\n",
       "    <tr>\n",
       "      <th>2</th>\n",
       "      <td>2</td>\n",
       "      <td>903</td>\n",
       "    </tr>\n",
       "    <tr>\n",
       "      <th>3</th>\n",
       "      <td>3</td>\n",
       "      <td>982</td>\n",
       "    </tr>\n",
       "    <tr>\n",
       "      <th>4</th>\n",
       "      <td>4</td>\n",
       "      <td>1167</td>\n",
       "    </tr>\n",
       "  </tbody>\n",
       "</table>\n",
       "</div>"
      ],
      "text/plain": [
       "   index    ID\n",
       "0      0   267\n",
       "1      1   904\n",
       "2      2   903\n",
       "3      3   982\n",
       "4      4  1167"
      ]
     },
     "execution_count": 419,
     "metadata": {},
     "output_type": "execute_result"
    }
   ],
   "source": [
    "df_node = pd.DataFrame(node_arr, columns=['ID']).reset_index()\n",
    "df_node.head()"
   ]
  },
  {
   "cell_type": "code",
   "execution_count": 420,
   "metadata": {},
   "outputs": [
    {
     "data": {
      "text/html": [
       "<div>\n",
       "<style scoped>\n",
       "    .dataframe tbody tr th:only-of-type {\n",
       "        vertical-align: middle;\n",
       "    }\n",
       "\n",
       "    .dataframe tbody tr th {\n",
       "        vertical-align: top;\n",
       "    }\n",
       "\n",
       "    .dataframe thead th {\n",
       "        text-align: right;\n",
       "    }\n",
       "</style>\n",
       "<table border=\"1\" class=\"dataframe\">\n",
       "  <thead>\n",
       "    <tr style=\"text-align: right;\">\n",
       "      <th></th>\n",
       "      <th>ID</th>\n",
       "      <th>Blog</th>\n",
       "      <th>Label</th>\n",
       "      <th>Orientation</th>\n",
       "      <th>index</th>\n",
       "    </tr>\n",
       "  </thead>\n",
       "  <tbody>\n",
       "    <tr>\n",
       "      <th>0</th>\n",
       "      <td>1</td>\n",
       "      <td>100monkeystyping.com</td>\n",
       "      <td>0</td>\n",
       "      <td>Blogarama</td>\n",
       "      <td>731</td>\n",
       "    </tr>\n",
       "    <tr>\n",
       "      <th>1</th>\n",
       "      <td>2</td>\n",
       "      <td>12thharmonic.com/wordpress</td>\n",
       "      <td>0</td>\n",
       "      <td>BlogCatalog</td>\n",
       "      <td>142</td>\n",
       "    </tr>\n",
       "    <tr>\n",
       "      <th>2</th>\n",
       "      <td>5</td>\n",
       "      <td>750volts.blogspot.com</td>\n",
       "      <td>0</td>\n",
       "      <td>Blogarama</td>\n",
       "      <td>105</td>\n",
       "    </tr>\n",
       "    <tr>\n",
       "      <th>3</th>\n",
       "      <td>6</td>\n",
       "      <td>95theses.blogspot.com</td>\n",
       "      <td>0</td>\n",
       "      <td>Blogarama</td>\n",
       "      <td>499</td>\n",
       "    </tr>\n",
       "    <tr>\n",
       "      <th>4</th>\n",
       "      <td>7</td>\n",
       "      <td>abbadabbaduo.blogspot.com</td>\n",
       "      <td>0</td>\n",
       "      <td>Blogarama,LeftyDirectory</td>\n",
       "      <td>1174</td>\n",
       "    </tr>\n",
       "  </tbody>\n",
       "</table>\n",
       "</div>"
      ],
      "text/plain": [
       "   ID                        Blog  Label               Orientation  index\n",
       "0   1        100monkeystyping.com      0                 Blogarama    731\n",
       "1   2  12thharmonic.com/wordpress      0               BlogCatalog    142\n",
       "2   5       750volts.blogspot.com      0                 Blogarama    105\n",
       "3   6       95theses.blogspot.com      0                 Blogarama    499\n",
       "4   7   abbadabbaduo.blogspot.com      0  Blogarama,LeftyDirectory   1174"
      ]
     },
     "execution_count": 420,
     "metadata": {},
     "output_type": "execute_result"
    }
   ],
   "source": [
    "df_nodes = pd.merge(df_nodes, df_node, on='ID')\n",
    "df_nodes.head()"
   ]
  },
  {
   "cell_type": "code",
   "execution_count": 417,
   "metadata": {},
   "outputs": [
    {
     "data": {
      "text/html": [
       "<div>\n",
       "<style scoped>\n",
       "    .dataframe tbody tr th:only-of-type {\n",
       "        vertical-align: middle;\n",
       "    }\n",
       "\n",
       "    .dataframe tbody tr th {\n",
       "        vertical-align: top;\n",
       "    }\n",
       "\n",
       "    .dataframe thead th {\n",
       "        text-align: right;\n",
       "    }\n",
       "</style>\n",
       "<table border=\"1\" class=\"dataframe\">\n",
       "  <thead>\n",
       "    <tr style=\"text-align: right;\">\n",
       "      <th></th>\n",
       "      <th>ID_1</th>\n",
       "      <th>ID_2</th>\n",
       "      <th>connection</th>\n",
       "      <th>index_x</th>\n",
       "      <th>ID_x</th>\n",
       "      <th>index_y</th>\n",
       "      <th>ID_y</th>\n",
       "    </tr>\n",
       "  </thead>\n",
       "  <tbody>\n",
       "    <tr>\n",
       "      <th>0</th>\n",
       "      <td>267</td>\n",
       "      <td>1394</td>\n",
       "      <td>1</td>\n",
       "      <td>0</td>\n",
       "      <td>267</td>\n",
       "      <td>557</td>\n",
       "      <td>1394</td>\n",
       "    </tr>\n",
       "    <tr>\n",
       "      <th>1</th>\n",
       "      <td>1223</td>\n",
       "      <td>1394</td>\n",
       "      <td>1</td>\n",
       "      <td>7</td>\n",
       "      <td>1223</td>\n",
       "      <td>557</td>\n",
       "      <td>1394</td>\n",
       "    </tr>\n",
       "    <tr>\n",
       "      <th>2</th>\n",
       "      <td>963</td>\n",
       "      <td>1394</td>\n",
       "      <td>1</td>\n",
       "      <td>77</td>\n",
       "      <td>963</td>\n",
       "      <td>557</td>\n",
       "      <td>1394</td>\n",
       "    </tr>\n",
       "    <tr>\n",
       "      <th>3</th>\n",
       "      <td>919</td>\n",
       "      <td>1394</td>\n",
       "      <td>1</td>\n",
       "      <td>100</td>\n",
       "      <td>919</td>\n",
       "      <td>557</td>\n",
       "      <td>1394</td>\n",
       "    </tr>\n",
       "    <tr>\n",
       "      <th>4</th>\n",
       "      <td>1121</td>\n",
       "      <td>1394</td>\n",
       "      <td>1</td>\n",
       "      <td>104</td>\n",
       "      <td>1121</td>\n",
       "      <td>557</td>\n",
       "      <td>1394</td>\n",
       "    </tr>\n",
       "  </tbody>\n",
       "</table>\n",
       "</div>"
      ],
      "text/plain": [
       "   ID_1  ID_2  connection  index_x  ID_x  index_y  ID_y\n",
       "0   267  1394           1        0   267      557  1394\n",
       "1  1223  1394           1        7  1223      557  1394\n",
       "2   963  1394           1       77   963      557  1394\n",
       "3   919  1394           1      100   919      557  1394\n",
       "4  1121  1394           1      104  1121      557  1394"
      ]
     },
     "execution_count": 417,
     "metadata": {},
     "output_type": "execute_result"
    }
   ],
   "source": [
    "df_edge_clean = pd.merge(df_edge_clean, df_node, left_on='ID_1', right_on='ID')\n",
    "df_edge_clean = pd.merge(df_edge_clean, df_node, left_on='ID_2', right_on='ID')\n",
    "df_edge_clean.head()"
   ]
  },
  {
   "cell_type": "code",
   "execution_count": 374,
   "metadata": {
    "scrolled": true
   },
   "outputs": [
    {
     "data": {
      "text/plain": [
       "1224"
      ]
     },
     "execution_count": 374,
     "metadata": {},
     "output_type": "execute_result"
    }
   ],
   "source": [
    "# n as the largest Index of Nodes plus one\n",
    "n = df_edge_clean.index_x.max()+1\n",
    "n"
   ]
  },
  {
   "cell_type": "code",
   "execution_count": 375,
   "metadata": {},
   "outputs": [],
   "source": [
    "# Create scipy coordinate sparse matrix\n",
    "A = coo_matrix((df_edge_clean['connection'], (df_edge_clean['index_x'], df_edge_clean['index_y'])),(n,n))"
   ]
  },
  {
   "cell_type": "code",
   "execution_count": 376,
   "metadata": {},
   "outputs": [
    {
     "data": {
      "text/plain": [
       "matrix([[0, 0, 0, ..., 0, 0, 0],\n",
       "        [0, 0, 0, ..., 0, 0, 0],\n",
       "        [0, 0, 0, ..., 0, 0, 0],\n",
       "        ...,\n",
       "        [0, 0, 0, ..., 0, 0, 0],\n",
       "        [0, 0, 0, ..., 0, 0, 0],\n",
       "        [0, 0, 0, ..., 0, 0, 0]])"
      ]
     },
     "execution_count": 376,
     "metadata": {},
     "output_type": "execute_result"
    }
   ],
   "source": [
    "A.todense()"
   ]
  },
  {
   "cell_type": "code",
   "execution_count": 599,
   "metadata": {},
   "outputs": [
    {
     "data": {
      "text/plain": [
       "33433"
      ]
     },
     "execution_count": 599,
     "metadata": {},
     "output_type": "execute_result"
    }
   ],
   "source": [
    "A.sum()"
   ]
  },
  {
   "cell_type": "code",
   "execution_count": 379,
   "metadata": {},
   "outputs": [],
   "source": [
    "D = np.diag(1/np.sqrt(np.sum(A, axis=1)).A1)\n",
    "L = D @ A @ D"
   ]
  },
  {
   "cell_type": "code",
   "execution_count": 392,
   "metadata": {
    "scrolled": true
   },
   "outputs": [],
   "source": [
    "x, v, _= np.linalg.svd(L)"
   ]
  },
  {
   "cell_type": "code",
   "execution_count": 385,
   "metadata": {},
   "outputs": [
    {
     "data": {
      "text/plain": [
       "(1224, 1224)"
      ]
     },
     "execution_count": 385,
     "metadata": {},
     "output_type": "execute_result"
    }
   ],
   "source": [
    "x.shape"
   ]
  },
  {
   "cell_type": "code",
   "execution_count": 494,
   "metadata": {},
   "outputs": [
    {
     "data": {
      "text/plain": [
       "array([[ 1.09384381e-02,  1.32958972e-17,  2.04099455e-18, ...,\n",
       "         9.21452090e-19,  1.17062773e-19,  1.60896249e-16],\n",
       "       [ 2.32039312e-02, -4.25454042e-17, -1.93398151e-17, ...,\n",
       "        -2.68545411e-18, -4.10635685e-18,  7.03080876e-15],\n",
       "       [ 1.09384381e-02,  1.49545369e-18,  1.04472323e-19, ...,\n",
       "         1.28716263e-17, -6.03795341e-18, -1.52309429e-01],\n",
       "       ...,\n",
       "       [ 5.46921903e-03, -3.73582025e-17, -5.00344078e-17, ...,\n",
       "         6.71357156e-17, -1.48851405e-17,  1.48997974e-01],\n",
       "       [ 5.46921903e-03, -4.26616545e-17, -4.23227265e-17, ...,\n",
       "        -6.36637748e-17,  1.43258634e-17, -1.48997974e-01],\n",
       "       [ 5.46921903e-03,  6.18873500e-18,  2.70769988e-17, ...,\n",
       "         9.15274393e-18, -2.37496673e-17,  2.06479535e-02]])"
      ]
     },
     "execution_count": 494,
     "metadata": {},
     "output_type": "execute_result"
    }
   ],
   "source": [
    "x"
   ]
  },
  {
   "cell_type": "code",
   "execution_count": 569,
   "metadata": {},
   "outputs": [],
   "source": [
    "k = 4\n",
    "u = x[:, 0:k]  \n",
    "u = u/np.repeat(np.sqrt(np.sum(u*u, axis=1).reshape(-1, 1)), k, axis=1)"
   ]
  },
  {
   "cell_type": "code",
   "execution_count": 570,
   "metadata": {},
   "outputs": [
    {
     "data": {
      "image/png": "[encoded data removed]",
      "text/plain": [
       "<Figure size 432x288 with 1 Axes>"
      ]
     },
     "metadata": {
      "needs_background": "light"
     },
     "output_type": "display_data"
    }
   ],
   "source": [
    "# scatter\n",
    "plt.scatter(u[:, 0], u[:, 1])\n",
    "plt.show()"
   ]
  },
  {
   "cell_type": "code",
   "execution_count": 531,
   "metadata": {},
   "outputs": [],
   "source": [
    "kmeans = KMeans(n_clusters=k).fit(u)\n",
    "c_idx = kmeans.labels_"
   ]
  },
  {
   "cell_type": "code",
   "execution_count": 533,
   "metadata": {},
   "outputs": [
    {
     "data": {
      "text/html": [
       "<div>\n",
       "<style scoped>\n",
       "    .dataframe tbody tr th:only-of-type {\n",
       "        vertical-align: middle;\n",
       "    }\n",
       "\n",
       "    .dataframe tbody tr th {\n",
       "        vertical-align: top;\n",
       "    }\n",
       "\n",
       "    .dataframe thead th {\n",
       "        text-align: right;\n",
       "    }\n",
       "</style>\n",
       "<table border=\"1\" class=\"dataframe\">\n",
       "  <thead>\n",
       "    <tr style=\"text-align: right;\">\n",
       "      <th></th>\n",
       "      <th>index</th>\n",
       "      <th>Label</th>\n",
       "    </tr>\n",
       "  </thead>\n",
       "  <tbody>\n",
       "    <tr>\n",
       "      <th>0</th>\n",
       "      <td>0</td>\n",
       "      <td>10</td>\n",
       "    </tr>\n",
       "    <tr>\n",
       "      <th>1</th>\n",
       "      <td>1</td>\n",
       "      <td>13</td>\n",
       "    </tr>\n",
       "    <tr>\n",
       "      <th>2</th>\n",
       "      <td>2</td>\n",
       "      <td>34</td>\n",
       "    </tr>\n",
       "    <tr>\n",
       "      <th>3</th>\n",
       "      <td>3</td>\n",
       "      <td>2</td>\n",
       "    </tr>\n",
       "    <tr>\n",
       "      <th>4</th>\n",
       "      <td>4</td>\n",
       "      <td>13</td>\n",
       "    </tr>\n",
       "  </tbody>\n",
       "</table>\n",
       "</div>"
      ],
      "text/plain": [
       "   index  Label\n",
       "0      0     10\n",
       "1      1     13\n",
       "2      2     34\n",
       "3      3      2\n",
       "4      4     13"
      ]
     },
     "execution_count": 533,
     "metadata": {},
     "output_type": "execute_result"
    }
   ],
   "source": [
    "df_label = pd.DataFrame(c_idx, columns=['Label']).reset_index()\n",
    "df_label.head()"
   ]
  },
  {
   "cell_type": "code",
   "execution_count": 534,
   "metadata": {},
   "outputs": [
    {
     "data": {
      "text/html": [
       "<div>\n",
       "<style scoped>\n",
       "    .dataframe tbody tr th:only-of-type {\n",
       "        vertical-align: middle;\n",
       "    }\n",
       "\n",
       "    .dataframe tbody tr th {\n",
       "        vertical-align: top;\n",
       "    }\n",
       "\n",
       "    .dataframe thead th {\n",
       "        text-align: right;\n",
       "    }\n",
       "</style>\n",
       "<table border=\"1\" class=\"dataframe\">\n",
       "  <thead>\n",
       "    <tr style=\"text-align: right;\">\n",
       "      <th></th>\n",
       "      <th>index</th>\n",
       "      <th>Label_x</th>\n",
       "      <th>ID</th>\n",
       "      <th>Blog</th>\n",
       "      <th>Label_y</th>\n",
       "      <th>Orientation</th>\n",
       "    </tr>\n",
       "  </thead>\n",
       "  <tbody>\n",
       "    <tr>\n",
       "      <th>0</th>\n",
       "      <td>0</td>\n",
       "      <td>10</td>\n",
       "      <td>267</td>\n",
       "      <td>home.earthlink.net/~kevin.omeara</td>\n",
       "      <td>0</td>\n",
       "      <td>Blogarama</td>\n",
       "    </tr>\n",
       "    <tr>\n",
       "      <th>1</th>\n",
       "      <td>1</td>\n",
       "      <td>13</td>\n",
       "      <td>904</td>\n",
       "      <td>conservativecat.com</td>\n",
       "      <td>1</td>\n",
       "      <td>Blogarama</td>\n",
       "    </tr>\n",
       "    <tr>\n",
       "      <th>2</th>\n",
       "      <td>2</td>\n",
       "      <td>34</td>\n",
       "      <td>903</td>\n",
       "      <td>conservativeblogger.com</td>\n",
       "      <td>1</td>\n",
       "      <td>eTalkingHead</td>\n",
       "    </tr>\n",
       "    <tr>\n",
       "      <th>3</th>\n",
       "      <td>3</td>\n",
       "      <td>2</td>\n",
       "      <td>982</td>\n",
       "      <td>evilpundit.com</td>\n",
       "      <td>1</td>\n",
       "      <td>eTalkingHead</td>\n",
       "    </tr>\n",
       "    <tr>\n",
       "      <th>4</th>\n",
       "      <td>4</td>\n",
       "      <td>13</td>\n",
       "      <td>1167</td>\n",
       "      <td>my2cent.blogspot.com</td>\n",
       "      <td>1</td>\n",
       "      <td>Blogarama</td>\n",
       "    </tr>\n",
       "  </tbody>\n",
       "</table>\n",
       "</div>"
      ],
      "text/plain": [
       "   index  Label_x    ID                              Blog  Label_y  \\\n",
       "0      0       10   267  home.earthlink.net/~kevin.omeara        0   \n",
       "1      1       13   904               conservativecat.com        1   \n",
       "2      2       34   903           conservativeblogger.com        1   \n",
       "3      3        2   982                    evilpundit.com        1   \n",
       "4      4       13  1167              my2cent.blogspot.com        1   \n",
       "\n",
       "    Orientation  \n",
       "0     Blogarama  \n",
       "1     Blogarama  \n",
       "2  eTalkingHead  \n",
       "3  eTalkingHead  \n",
       "4     Blogarama  "
      ]
     },
     "execution_count": 534,
     "metadata": {},
     "output_type": "execute_result"
    }
   ],
   "source": [
    "df_match = df_label.merge(df_nodes, on='index')\n",
    "df_match.head()"
   ]
  },
  {
   "cell_type": "code",
   "execution_count": 535,
   "metadata": {},
   "outputs": [
    {
     "data": {
      "text/plain": [
       "array([10, 13, 34,  2, 35, 24, 14, 25, 42, 15,  8, 37, 31,  3, 11, 38, 16,\n",
       "       21, 29, 23,  6,  7, 48, 22, 18, 32, 40,  5, 33, 39, 47, 27,  9,  4,\n",
       "       17, 26,  0, 49, 41, 36, 19,  1, 28, 12, 30, 44, 45, 20, 46, 43],\n",
       "      dtype=int32)"
      ]
     },
     "execution_count": 535,
     "metadata": {},
     "output_type": "execute_result"
    }
   ],
   "source": [
    "df_match['Label_x'].unique()"
   ]
  },
  {
   "cell_type": "code",
   "execution_count": 536,
   "metadata": {},
   "outputs": [],
   "source": [
    "for i in df_match['Label_x'].unique():\n",
    "    df_match.loc[df_match['Label_x']==i,'Label_cal'] = df_match.loc[df_match['Label_x']==i,'Label_y'].mode().values[0]\n",
    "    df_match.loc[df_match['Label_x']==i,'mismatch'] = df_match.loc[df_match['Label_x']==i,'Label_cal'] == df_match.loc[df_match['Label_x']==i,'Label_y']"
   ]
  },
  {
   "cell_type": "code",
   "execution_count": 537,
   "metadata": {},
   "outputs": [
    {
     "data": {
      "text/html": [
       "<div>\n",
       "<style scoped>\n",
       "    .dataframe tbody tr th:only-of-type {\n",
       "        vertical-align: middle;\n",
       "    }\n",
       "\n",
       "    .dataframe tbody tr th {\n",
       "        vertical-align: top;\n",
       "    }\n",
       "\n",
       "    .dataframe thead th {\n",
       "        text-align: right;\n",
       "    }\n",
       "</style>\n",
       "<table border=\"1\" class=\"dataframe\">\n",
       "  <thead>\n",
       "    <tr style=\"text-align: right;\">\n",
       "      <th></th>\n",
       "      <th>index</th>\n",
       "      <th>Label_x</th>\n",
       "      <th>ID</th>\n",
       "      <th>Blog</th>\n",
       "      <th>Label_y</th>\n",
       "      <th>Orientation</th>\n",
       "      <th>Label_cal</th>\n",
       "      <th>mismatch</th>\n",
       "    </tr>\n",
       "  </thead>\n",
       "  <tbody>\n",
       "    <tr>\n",
       "      <th>0</th>\n",
       "      <td>0</td>\n",
       "      <td>10</td>\n",
       "      <td>267</td>\n",
       "      <td>home.earthlink.net/~kevin.omeara</td>\n",
       "      <td>0</td>\n",
       "      <td>Blogarama</td>\n",
       "      <td>0.0</td>\n",
       "      <td>True</td>\n",
       "    </tr>\n",
       "    <tr>\n",
       "      <th>1</th>\n",
       "      <td>1</td>\n",
       "      <td>13</td>\n",
       "      <td>904</td>\n",
       "      <td>conservativecat.com</td>\n",
       "      <td>1</td>\n",
       "      <td>Blogarama</td>\n",
       "      <td>1.0</td>\n",
       "      <td>True</td>\n",
       "    </tr>\n",
       "    <tr>\n",
       "      <th>2</th>\n",
       "      <td>2</td>\n",
       "      <td>34</td>\n",
       "      <td>903</td>\n",
       "      <td>conservativeblogger.com</td>\n",
       "      <td>1</td>\n",
       "      <td>eTalkingHead</td>\n",
       "      <td>1.0</td>\n",
       "      <td>True</td>\n",
       "    </tr>\n",
       "    <tr>\n",
       "      <th>3</th>\n",
       "      <td>3</td>\n",
       "      <td>2</td>\n",
       "      <td>982</td>\n",
       "      <td>evilpundit.com</td>\n",
       "      <td>1</td>\n",
       "      <td>eTalkingHead</td>\n",
       "      <td>1.0</td>\n",
       "      <td>True</td>\n",
       "    </tr>\n",
       "    <tr>\n",
       "      <th>4</th>\n",
       "      <td>4</td>\n",
       "      <td>13</td>\n",
       "      <td>1167</td>\n",
       "      <td>my2cent.blogspot.com</td>\n",
       "      <td>1</td>\n",
       "      <td>Blogarama</td>\n",
       "      <td>1.0</td>\n",
       "      <td>True</td>\n",
       "    </tr>\n",
       "    <tr>\n",
       "      <th>...</th>\n",
       "      <td>...</td>\n",
       "      <td>...</td>\n",
       "      <td>...</td>\n",
       "      <td>...</td>\n",
       "      <td>...</td>\n",
       "      <td>...</td>\n",
       "      <td>...</td>\n",
       "      <td>...</td>\n",
       "    </tr>\n",
       "    <tr>\n",
       "      <th>1219</th>\n",
       "      <td>1219</td>\n",
       "      <td>30</td>\n",
       "      <td>471</td>\n",
       "      <td>notbush.com</td>\n",
       "      <td>0</td>\n",
       "      <td>CampaignLine</td>\n",
       "      <td>0.0</td>\n",
       "      <td>True</td>\n",
       "    </tr>\n",
       "    <tr>\n",
       "      <th>1220</th>\n",
       "      <td>1220</td>\n",
       "      <td>48</td>\n",
       "      <td>1046</td>\n",
       "      <td>imprescindibile.ilcannocchiale.it</td>\n",
       "      <td>1</td>\n",
       "      <td>BlogCatalog</td>\n",
       "      <td>0.0</td>\n",
       "      <td>False</td>\n",
       "    </tr>\n",
       "    <tr>\n",
       "      <th>1221</th>\n",
       "      <td>1221</td>\n",
       "      <td>35</td>\n",
       "      <td>44</td>\n",
       "      <td>anywhichway.net</td>\n",
       "      <td>0</td>\n",
       "      <td>Blogarama</td>\n",
       "      <td>0.0</td>\n",
       "      <td>True</td>\n",
       "    </tr>\n",
       "    <tr>\n",
       "      <th>1222</th>\n",
       "      <td>1222</td>\n",
       "      <td>35</td>\n",
       "      <td>59</td>\n",
       "      <td>b-patton.blogspot.com</td>\n",
       "      <td>0</td>\n",
       "      <td>Blogarama</td>\n",
       "      <td>0.0</td>\n",
       "      <td>True</td>\n",
       "    </tr>\n",
       "    <tr>\n",
       "      <th>1223</th>\n",
       "      <td>1223</td>\n",
       "      <td>14</td>\n",
       "      <td>1331</td>\n",
       "      <td>scrawlville.com</td>\n",
       "      <td>1</td>\n",
       "      <td>Blogarama</td>\n",
       "      <td>1.0</td>\n",
       "      <td>True</td>\n",
       "    </tr>\n",
       "  </tbody>\n",
       "</table>\n",
       "<p>1224 rows × 8 columns</p>\n",
       "</div>"
      ],
      "text/plain": [
       "      index  Label_x    ID                               Blog  Label_y  \\\n",
       "0         0       10   267   home.earthlink.net/~kevin.omeara        0   \n",
       "1         1       13   904                conservativecat.com        1   \n",
       "2         2       34   903            conservativeblogger.com        1   \n",
       "3         3        2   982                     evilpundit.com        1   \n",
       "4         4       13  1167               my2cent.blogspot.com        1   \n",
       "...     ...      ...   ...                                ...      ...   \n",
       "1219   1219       30   471                        notbush.com        0   \n",
       "1220   1220       48  1046  imprescindibile.ilcannocchiale.it        1   \n",
       "1221   1221       35    44                    anywhichway.net        0   \n",
       "1222   1222       35    59              b-patton.blogspot.com        0   \n",
       "1223   1223       14  1331                    scrawlville.com        1   \n",
       "\n",
       "       Orientation  Label_cal mismatch  \n",
       "0        Blogarama        0.0     True  \n",
       "1        Blogarama        1.0     True  \n",
       "2     eTalkingHead        1.0     True  \n",
       "3     eTalkingHead        1.0     True  \n",
       "4        Blogarama        1.0     True  \n",
       "...            ...        ...      ...  \n",
       "1219  CampaignLine        0.0     True  \n",
       "1220   BlogCatalog        0.0    False  \n",
       "1221     Blogarama        0.0     True  \n",
       "1222     Blogarama        0.0     True  \n",
       "1223     Blogarama        1.0     True  \n",
       "\n",
       "[1224 rows x 8 columns]"
      ]
     },
     "execution_count": 537,
     "metadata": {},
     "output_type": "execute_result"
    }
   ],
   "source": [
    "df_match"
   ]
  },
  {
   "cell_type": "code",
   "execution_count": 540,
   "metadata": {},
   "outputs": [
    {
     "data": {
      "text/plain": [
       "1224"
      ]
     },
     "execution_count": 540,
     "metadata": {},
     "output_type": "execute_result"
    }
   ],
   "source": [
    "df_match['mismatch'].count()"
   ]
  },
  {
   "cell_type": "code",
   "execution_count": 575,
   "metadata": {},
   "outputs": [],
   "source": [
    "rate_ls = []\n",
    "for p in range(2, 100):\n",
    "    k = p\n",
    "    u = x[:, 0:k]  \n",
    "    u = u/np.repeat(np.sqrt(np.sum(u*u, axis=1).reshape(-1, 1)), k, axis=1)\n",
    "    kmeans = KMeans(n_clusters=k).fit(u)\n",
    "    c_idx = kmeans.labels_\n",
    "    df_label = pd.DataFrame(c_idx, columns=['Label']).reset_index()\n",
    "    df_match = df_label.merge(df_nodes, on='index')\n",
    "    for i in df_match['Label_x'].unique():\n",
    "        df_match.loc[df_match['Label_x']==i,'Label_cal'] = df_match.loc[df_match['Label_x']==i,'Label_y'].mode().values[0]\n",
    "        df_match.loc[df_match['Label_x']==i,'mismatch'] = df_match.loc[df_match['Label_x']==i,'Label_cal'] == df_match.loc[df_match['Label_x']==i,'Label_y']\n",
    "    mis_rate = 1-df_match['mismatch'].sum()/df_match['mismatch'].count()\n",
    "    rate_ls.append(mis_rate)"
   ]
  },
  {
   "cell_type": "code",
   "execution_count": 576,
   "metadata": {},
   "outputs": [
    {
     "data": {
      "text/plain": [
       "[<matplotlib.lines.Line2D at 0x7fdec3ef2a00>]"
      ]
     },
     "execution_count": 576,
     "metadata": {},
     "output_type": "execute_result"
    },
    {
     "data": {
      "image/png": "[encoded data removed]",
      "text/plain": [
       "<Figure size 432x288 with 1 Axes>"
      ]
     },
     "metadata": {
      "needs_background": "light"
     },
     "output_type": "display_data"
    }
   ],
   "source": [
    "plt.plot(list(range(2,100)),rate_ls)"
   ]
  },
  {
   "cell_type": "code",
   "execution_count": 600,
   "metadata": {},
   "outputs": [
    {
     "data": {
      "text/plain": [
       "{0: {'mis_rate': 0.4795417348608838, 'size': 1222},\n",
       " 1: {'mis_rate': 0.0, 'size': 2}}"
      ]
     },
     "execution_count": 600,
     "metadata": {},
     "output_type": "execute_result"
    }
   ],
   "source": [
    "mis_match = {}\n",
    "k = 2\n",
    "u = x[:, 0:k]  \n",
    "u = u/np.repeat(np.sqrt(np.sum(u*u, axis=1).reshape(-1, 1)), k, axis=1)\n",
    "kmeans = KMeans(n_clusters=k).fit(u)\n",
    "c_idx = kmeans.labels_\n",
    "df_label = pd.DataFrame(c_idx, columns=['Label']).reset_index()\n",
    "df_match = df_label.merge(df_nodes, on='index')\n",
    "for i in df_match['Label_x'].unique():\n",
    "    df_match.loc[df_match['Label_x']==i,'Label_cal'] = df_match.loc[df_match['Label_x']==i,'Label_y'].mode().values[0]\n",
    "    df_match.loc[df_match['Label_x']==i,'mismatch'] = df_match.loc[df_match['Label_x']==i,'Label_cal'] == df_match.loc[df_match['Label_x']==i,'Label_y']\n",
    "    mis_rate_i = df_match.loc[df_match['Label_x']==i,'mismatch'].sum()/df_match.loc[df_match['Label_x']==i,'mismatch'].count()   \n",
    "    mis_match[i] = {}\n",
    "    mis_match[i]['mis_rate'] = 1-mis_rate_i\n",
    "    mis_match[i]['size'] = df_match.loc[df_match['Label_x']==i,'mismatch'].count()  \n",
    "mis_rate = 1-df_match['mismatch'].sum()/df_match['mismatch'].count()\n",
    "mis_match"
   ]
  },
  {
   "cell_type": "code",
   "execution_count": 601,
   "metadata": {},
   "outputs": [
    {
     "data": {
      "text/plain": [
       "{0: {'mis_rate': 0.4795417348608838, 'size': 1222},\n",
       " 2: {'mis_rate': 0.0, 'size': 1},\n",
       " 1: {'mis_rate': 0.0, 'size': 1}}"
      ]
     },
     "execution_count": 601,
     "metadata": {},
     "output_type": "execute_result"
    }
   ],
   "source": [
    "mis_match = {}\n",
    "k = 3\n",
    "u = x[:, 0:k]  \n",
    "u = u/np.repeat(np.sqrt(np.sum(u*u, axis=1).reshape(-1, 1)), k, axis=1)\n",
    "kmeans = KMeans(n_clusters=k).fit(u)\n",
    "c_idx = kmeans.labels_\n",
    "df_label = pd.DataFrame(c_idx, columns=['Label']).reset_index()\n",
    "df_match = df_label.merge(df_nodes, on='index')\n",
    "for i in df_match['Label_x'].unique():\n",
    "    df_match.loc[df_match['Label_x']==i,'Label_cal'] = df_match.loc[df_match['Label_x']==i,'Label_y'].mode().values[0]\n",
    "    df_match.loc[df_match['Label_x']==i,'mismatch'] = df_match.loc[df_match['Label_x']==i,'Label_cal'] == df_match.loc[df_match['Label_x']==i,'Label_y']\n",
    "    mis_rate_i = df_match.loc[df_match['Label_x']==i,'mismatch'].sum()/df_match.loc[df_match['Label_x']==i,'mismatch'].count()   \n",
    "    mis_match[i] = {}\n",
    "    mis_match[i]['mis_rate'] = 1-mis_rate_i\n",
    "    mis_match[i]['size'] = df_match.loc[df_match['Label_x']==i,'mismatch'].count()  \n",
    "mis_rate = 1-df_match['mismatch'].sum()/df_match['mismatch'].count()\n",
    "mis_match"
   ]
  },
  {
   "cell_type": "code",
   "execution_count": 602,
   "metadata": {},
   "outputs": [
    {
     "data": {
      "text/plain": [
       "{0: {'mis_rate': 0.48026315789473684, 'size': 1216},\n",
       " 2: {'mis_rate': 0.0, 'size': 1},\n",
       " 1: {'mis_rate': 0.33333333333333337, 'size': 6},\n",
       " 3: {'mis_rate': 0.0, 'size': 1}}"
      ]
     },
     "execution_count": 602,
     "metadata": {},
     "output_type": "execute_result"
    }
   ],
   "source": [
    "mis_match = {}\n",
    "k = 4\n",
    "u = x[:, 0:k]  \n",
    "u = u/np.repeat(np.sqrt(np.sum(u*u, axis=1).reshape(-1, 1)), k, axis=1)\n",
    "kmeans = KMeans(n_clusters=k).fit(u)\n",
    "c_idx = kmeans.labels_\n",
    "df_label = pd.DataFrame(c_idx, columns=['Label']).reset_index()\n",
    "df_match = df_label.merge(df_nodes, on='index')\n",
    "for i in df_match['Label_x'].unique():\n",
    "    df_match.loc[df_match['Label_x']==i,'Label_cal'] = df_match.loc[df_match['Label_x']==i,'Label_y'].mode().values[0]\n",
    "    df_match.loc[df_match['Label_x']==i,'mismatch'] = df_match.loc[df_match['Label_x']==i,'Label_cal'] == df_match.loc[df_match['Label_x']==i,'Label_y']\n",
    "    mis_rate_i = df_match.loc[df_match['Label_x']==i,'mismatch'].sum()/df_match.loc[df_match['Label_x']==i,'mismatch'].count()   \n",
    "    mis_match[i] = {}\n",
    "    mis_match[i]['mis_rate'] = 1-mis_rate_i\n",
    "    mis_match[i]['size'] = df_match.loc[df_match['Label_x']==i,'mismatch'].count()  \n",
    "mis_rate = 1-df_match['mismatch'].sum()/df_match['mismatch'].count()\n",
    "mis_match"
   ]
  },
  {
   "cell_type": "code",
   "execution_count": 598,
   "metadata": {},
   "outputs": [
    {
     "data": {
      "text/plain": [
       "{4: {'mis_rate': 0.02409638554216864, 'size': 83},\n",
       " 0: {'mis_rate': 0.025380710659898442, 'size': 591},\n",
       " 1: {'mis_rate': 0.02145922746781115, 'size': 466},\n",
       " 2: {'mis_rate': 0.42105263157894735, 'size': 76},\n",
       " 3: {'mis_rate': 0.5, 'size': 8}}"
      ]
     },
     "execution_count": 598,
     "metadata": {},
     "output_type": "execute_result"
    }
   ],
   "source": [
    "mis_match = {}\n",
    "k = 5\n",
    "u = x[:, 0:k]  \n",
    "u = u/np.repeat(np.sqrt(np.sum(u*u, axis=1).reshape(-1, 1)), k, axis=1)\n",
    "kmeans = KMeans(n_clusters=k).fit(u)\n",
    "c_idx = kmeans.labels_\n",
    "df_label = pd.DataFrame(c_idx, columns=['Label']).reset_index()\n",
    "df_match = df_label.merge(df_nodes, on='index')\n",
    "for i in df_match['Label_x'].unique():\n",
    "    df_match.loc[df_match['Label_x']==i,'Label_cal'] = df_match.loc[df_match['Label_x']==i,'Label_y'].mode().values[0]\n",
    "    df_match.loc[df_match['Label_x']==i,'mismatch'] = df_match.loc[df_match['Label_x']==i,'Label_cal'] == df_match.loc[df_match['Label_x']==i,'Label_y']\n",
    "    mis_rate_i = df_match.loc[df_match['Label_x']==i,'mismatch'].sum()/df_match.loc[df_match['Label_x']==i,'mismatch'].count()   \n",
    "    mis_match[i] = {}\n",
    "    mis_match[i]['mis_rate'] = 1-mis_rate_i\n",
    "    mis_match[i]['size'] = df_match.loc[df_match['Label_x']==i,'mismatch'].count()  \n",
    "mis_rate = 1-df_match['mismatch'].sum()/df_match['mismatch'].count()\n",
    "mis_match"
   ]
  },
  {
   "cell_type": "code",
   "execution_count": 577,
   "metadata": {},
   "outputs": [
    {
     "data": {
      "text/plain": [
       "[0.4787581699346405,\n",
       " 0.4787581699346405,\n",
       " 0.4787581699346405,\n",
       " 0.05147058823529416,\n",
       " 0.05065359477124187,\n",
       " 0.04656862745098034,\n",
       " 0.04738562091503273,\n",
       " 0.04738562091503273,\n",
       " 0.04493464052287577,\n",
       " 0.04738562091503273]"
      ]
     },
     "execution_count": 577,
     "metadata": {},
     "output_type": "execute_result"
    }
   ],
   "source": [
    "rate_ls[:10]"
   ]
  }
 ],
 "metadata": {
  "kernelspec": {
   "display_name": "Python 3",
   "language": "python",
   "name": "python3"
  },
  "language_info": {
   "codemirror_mode": {
    "name": "ipython",
    "version": 3
   },
   "file_extension": ".py",
   "mimetype": "text/x-python",
   "name": "python",
   "nbconvert_exporter": "python",
   "pygments_lexer": "ipython3",
   "version": "3.8.3"
  }
 },
 "nbformat": 4,
 "nbformat_minor": 4
}
