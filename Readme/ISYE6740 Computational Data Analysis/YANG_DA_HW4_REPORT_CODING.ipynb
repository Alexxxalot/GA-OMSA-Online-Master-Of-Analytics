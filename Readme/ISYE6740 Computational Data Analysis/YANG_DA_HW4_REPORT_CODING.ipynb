{
 "cells": [
  {
   "cell_type": "markdown",
   "metadata": {},
   "source": [
    "# ISYE 6740 FALL 2020\n",
    "# HOMEWORK 4\n",
    "\n",
    "##### By: Da Yang (dyang347@gatech.edu)\n",
    "\n",
    "\n"
   ]
  },
  {
   "cell_type": "markdown",
   "metadata": {},
   "source": [
    "## 1. Basic Optimization (40 points)"
   ]
  },
  {
   "cell_type": "markdown",
   "metadata": {},
   "source": [
    "Consider a simplified logistic regression problem. \n",
    "Given $m$ training samples $(x^i, y^i)$, $i = 1, \\ldots, m$. The data $x^i \\in \\mathbb R$ (note that we only have one feature for each sample), and $y^i \\in \\{0, 1\\}$.  To fit a logistic regression model for classification, we solve the following optimization problem, where $\\theta \\in \\mathbb R$ is a parameter we aim to find: <br>\n",
    "\n",
    "(1)\n",
    "\n",
    "$$\\max_\\theta \\ell (\\theta), \\label{eqn}$$\n",
    "<br>\n",
    "where the log-likelhood function \n",
    "$$\\ell(\\theta) = \\sum_{i=1}^m \\left\\{-\\log (1+\\exp\\{-\\theta x^i\\}) + (y^i-1) \\theta x^i\\right\\}$$\n"
   ]
  },
  {
   "cell_type": "markdown",
   "metadata": {},
   "source": [
    "#### (a) \n",
    "(10 points) Show step-by-step mathematical derivation for the gradient of the cost function $\\ell(\\theta)$ in (1). <br>\n",
    "\n"
   ]
  },
  {
   "cell_type": "markdown",
   "metadata": {},
   "source": [
    "#### Answer:\n",
    "\n",
    "logistics regression model as:\n",
    "\n",
    "$$p(y=1|x, \\theta) = \\frac{1}{1+ exp(-\\theta^{T}x)}$$\n",
    "\n",
    "<br>\n",
    "\n",
    "$$p(y=0|x, \\theta) = 1- \\frac{1}{1+ exp(-\\theta^{T}x)} = \\frac{exp(-\\theta^{T}x)}{1+exp(-\\theta^{T}x)}$$\n",
    "\n",
    "for $i = 1, \\ldots, m$, the probability of $y^i$ <br>\n",
    "\n",
    "$$\n",
    "P(y^i|x^i;\\theta) = (\\frac{1}{1+ exp(-\\theta^{T}x^i)})^{y^i}(\\frac{exp(-\\theta^{T}x)}{1+exp(-\\theta^{T}x)})^{1-y^i}\n",
    "$$\n",
    "<br>\n",
    "\n",
    "The cost function $L(\\theta)$:\n",
    "$$L(\\theta) = \\Pi^{m}_{i=1}P(y^i| x^i, \\theta)$$\n",
    "<br>\n",
    "\n",
    "##### The log-likelihood function \n",
    "$$\\ell(\\theta) = log\\Pi^{m}_{i=1}P(y^i| x^i, \\theta)$$"
   ]
  },
  {
   "cell_type": "markdown",
   "metadata": {},
   "source": [
    "<br>\n",
    "\n",
    "$$\\ell(\\theta) = \\sum_{i=1}^{m}\\left\\{y^{i}log(\\frac{1}{1+ exp(-\\theta^{T}x^i)})+(1-y^{i})log(\\frac{exp(-\\theta^{T}x)}{1+exp(-\\theta^{T}x)})\\right\\}$$\n",
    "<br>\n"
   ]
  },
  {
   "cell_type": "markdown",
   "metadata": {},
   "source": [
    "<br>\n",
    "$$\\ell(\\theta) = \\sum_{i=1}^{m}\\left\\{y^{i}log(\\frac{1}{1+ exp(-\\theta^{T}x^i)})-y^{i}log(\\frac{exp(-\\theta^{T}x)}{1+exp(-\\theta^{T}x)})+log(\\frac{exp(-\\theta^{T}x)}{1+exp(-\\theta^{T}x)})\\right\\}$$\n",
    "<br>"
   ]
  },
  {
   "cell_type": "markdown",
   "metadata": {},
   "source": [
    "<br>\n",
    "$$\\ell(\\theta) = \\sum_{i=1}^{m}\\left\\{-y^{i}log(1+ exp(-\\theta^{T}x^i))-y^{i}log(exp(-\\theta^{T}x)+y^{i}log(1+exp(-\\theta^{T}x))+log(exp(-\\theta^{T}x))-log(1+exp(-\\theta^{T}x))\\right\\}$$\n",
    "<br>"
   ]
  },
  {
   "cell_type": "markdown",
   "metadata": {},
   "source": [
    "<br>\n",
    "$$\\ell(\\theta) = \\sum_{i=1}^{m}\\left\\{-y^{i}(-\\theta^{T}x)+(-\\theta^{T}x)-log(1+exp(-\\theta^{T}x))\\right\\}$$\n",
    "<br>"
   ]
  },
  {
   "cell_type": "markdown",
   "metadata": {},
   "source": [
    "<br>\n",
    "$$\\ell(\\theta) = \\sum_{i=1}^{m}\\left\\{(y^{i}-1)(\\theta^{T}x)-log(1+exp(-\\theta^{T}x))\\right\\}$$\n",
    "<br>"
   ]
  },
  {
   "cell_type": "markdown",
   "metadata": {},
   "source": [
    "##### Gradient of the log-likelihood function\n",
    "\n",
    "$$\\frac{d\\ell(\\theta)}{d\\theta} = \\sum_{i=1}^{m}(y^i-1)x - \\sum_{i=1}^{m}\\frac{d(log(1+exp(-\\theta^{T}x)))}{d\\theta}$$"
   ]
  },
  {
   "cell_type": "markdown",
   "metadata": {},
   "source": [
    "Make \n",
    "$$z = 1+exp^{-\\theta^Tx}$$\n",
    "$$t = \\theta^T x$$"
   ]
  },
  {
   "cell_type": "markdown",
   "metadata": {},
   "source": [
    "Based on the chain rule:\n",
    "$$\\frac{d\\ell(\\theta)}{d\\theta} = \\sum_{i=1}^{m}(y^i-1)x - \\sum_{i=1}^{m}\\frac{dlogz}{dz}\\times\\frac{dz}{dt}\\times\\frac{dt}{d\\theta}$$\n",
    "\n",
    "<br>\n",
    "<br>\n",
    "\n",
    "$$\\frac{d\\ell(\\theta)}{d\\theta} = \\sum_{i=1}^{m}(y^i-1)x - \\sum_{i=1}^{m}x(\\frac{1}{1+exp(-\\theta^Tx)})(-exp(-\\theta^Tx))$$\n",
    "\n",
    "$$\\frac{d\\ell(\\theta)}{d\\theta} = \\sum_{i=1}^{m}(y^i-(1-\\frac{exp(-\\theta^Tx)}{1+exp(-\\theta^Tx)})x$$\n",
    "\n",
    "<br>\n",
    "<br>\n",
    "\n",
    "$$\\frac{d\\ell(\\theta)}{d\\theta} = \\sum_{i=1}^{m}(y^i-\\frac{1}{1+exp(-\\theta^Tx)})x$$\n",
    "\n"
   ]
  },
  {
   "cell_type": "markdown",
   "metadata": {},
   "source": [
    "#### (b) \n",
    "(10 points) Write a pseudo-code  for performing **gradient descent** to find the optimizer $\\theta^*$. This is essentially what the training procedure does. (pseudo-code  means you will write down the steps of the algorithm, not necessarily any specific programming language.) <br>"
   ]
  },
  {
   "cell_type": "markdown",
   "metadata": {},
   "source": [
    "#### Answer:\n",
    "\n",
    "In order to find the max of $\\ell(\\theta)$, we will need to calculate to make the derivation of gradient descent to zero. \n",
    "To find the optimal solution, we will do the iteration along with the steepest direction at each step.\n",
    "\n",
    "We first initialize parameter $\\theta$, and the step size as $\\alpha$\n",
    "\n",
    "$$\\theta^{t+1} = \\theta^{t} + \\alpha \\times \\frac{d\\ell(\\theta)}{d\\theta}$$\n",
    "\n",
    "<br>\n",
    "While $||\\theta^{t+1}-\\theta^{t}|| > \\epsilon$ "
   ]
  },
  {
   "cell_type": "markdown",
   "metadata": {},
   "source": [
    "#### (c) \n",
    "(10 points) Write the pseudo-code for performing the **stochastic gradient descent** algorithm to solve the training of logistic regression problem (1). Please explain the difference between gradient descent and stochastic gradient descent for training logistic regression. <br>\n",
    "\n"
   ]
  },
  {
   "cell_type": "markdown",
   "metadata": {},
   "source": [
    "#### Answer:\n",
    "\n",
    "#### SGD:\n",
    "* For SGD, at each iteration step, we randomly sample a samll subset $S_t$ data point\n",
    "* Use gradient estimated using the samll subset in $S_t$\n",
    "* Each iteration use a different subset of data and calcualte the gradient descent again\n",
    "* And keep loop through the entire traing dataset. \n",
    "\n",
    "#### Comparison:\n",
    "The primary difference is that stochastic gradient descent only use subset of data in each iteration instead of going through the entire training dataset at each iteration.\n",
    "This will also provide good estimation while reduce the computation cost of going through the entire data set again and again at each step.\n",
    "The SGD will also speed up the solution when dealing with large training data set.\n",
    "On the other hand, it will have more noise as well as risk of not going through the optimal direction since the gradient descent is only calculated from sample data"
   ]
  },
  {
   "cell_type": "markdown",
   "metadata": {},
   "source": [
    "#### (d) \n",
    "(10 points) We will **show that the training problem in basic logistic regression problem is concave.** Derive the Hessian matrix of $\\ell(\\theta)$ and based on this, show the training problem (1) is concave (note that in this case, since we only have one feature, the Hessian matrix is just a scalar). Explain why the problem can be solved efficiently and gradient descent will achieve a unique global optimizer, as we discussed in class. "
   ]
  },
  {
   "cell_type": "markdown",
   "metadata": {},
   "source": [
    "#### Answer:\n",
    "\n",
    "The hessian in the problem is the second partial derivative of $\\ell(\\theta)$ with respect to $\\theta$.\n",
    "\n",
    "$$\\frac{d\\ell(\\theta)}{d\\theta} = \\sum_{i=1}^{m}(y^i-\\frac{1}{1+exp(-\\theta^Tx)})x$$\n",
    "\n",
    "\n",
    "Based on Chain Rule: <br>\n",
    "\n",
    "Let $u = 1+exp(-\\theta^Tx)$\n",
    "\n",
    "$$\\frac{d^2\\ell(\\theta)}{d\\theta} = \\sum_{i=1}^{m}(y^i-\\frac{1}{u})x\\times \\frac{du}{d\\theta}$$"
   ]
  },
  {
   "cell_type": "markdown",
   "metadata": {},
   "source": [
    "$$=\\sum_{i=1}^{m}(-x(-\\frac{1}{u^2})(-x \\times exp(-\\theta^Tx))$$\n",
    "<br>\n",
    "$$=\\sum_{i=1}^{m}(-x(-\\frac{1}{(1+exp(-\\theta^Tx))^2})(-x \\times exp(-\\theta^Tx))$$\n",
    "<br>\n",
    "$$=\\sum_{i=1}^{m}(-x^{2}(\\frac{exp(-\\theta^Tx)}{(1+exp(-\\theta^Tx))^2})$$\n",
    "<br>\n",
    "$$=-x^{2}\\sum_{i=1}^{m}((\\frac{1}{1+exp(-\\theta^Tx)}-\\frac{1}{(1+exp(-\\theta^Tx))^2})$$"
   ]
  },
  {
   "cell_type": "markdown",
   "metadata": {},
   "source": [
    "Because $exp(-\\theta^{T}x)>0$, so $1+exp(-\\theta^{T}x) > 1$\n",
    "From above, we know \n",
    "$$\\frac{1}{1+exp(-\\theta^Tx)}-\\frac{1}{(1+exp(-\\theta^Tx))^2} > 0$$\n",
    "\n",
    "From above, \n",
    "$$\\frac{d^2\\ell(\\theta)}{d\\theta}=-x^{2}\\sum_{i=1}^{m}((\\frac{1}{1+exp(-\\theta^Tx)}-\\frac{1}{(1+exp(-\\theta^Tx))^2}) < 0$$"
   ]
  },
  {
   "cell_type": "markdown",
   "metadata": {},
   "source": [
    "Because the second derivateive is negative, therefore the objective function $\\ell(\\theta)$ is a concave optimization problem, the optimal solution will be the max value"
   ]
  },
  {
   "cell_type": "markdown",
   "metadata": {},
   "source": [
    "## 2. Comparing Bayes, logistic, and KNN classifiers. (60 points)"
   ]
  },
  {
   "cell_type": "markdown",
   "metadata": {},
   "source": [
    "In lectures, we learn three different classifiers. This question is to implement and compare them. Python users, please feel free to use $\\textsf{Scikit-learn}$, which is a commonly-used and powerful $\\textsf{Python}$ library with various machine learning tools. But you can also use other similar libraries in other languages of your choice to perform the tasks. "
   ]
  },
  {
   "cell_type": "markdown",
   "metadata": {},
   "source": [
    "\n",
    "#### Part One (Divorce classification/prediction) (30 points) \n",
    "\n",
    "This dataset is about participants who completed the personal information form and a divorce predictors scale. \n",
    "\n",
    "The data is a modified version of the publicly available at  https://archive.ics.uci.edu/ml/datasets/Divorce+Predictors+data+set (by injecting noise so you will not get the exactly same results as on UCI website).  The dataset $\\textsf{marriage.csv}$ is contained in the homework folder. There are 170 participants and 54 attributes (or predictor variables) that are all real-valued. The last column of the CSV file is label $y$ (1 means \"divorce\", 0 means \"no divorce\"). Each column is for one feature (predictor variable), and each row is a sample (participant). A detailed explanation for each feature (predictor variable) can be found at the website link above. Our goal is to build a classifier using training data, such that given a test sample, we can classify (or essentially predict) whether its label is 0 (\"no divorce\") or 1 (\"divorce\"). \n",
    "\n"
   ]
  },
  {
   "cell_type": "markdown",
   "metadata": {},
   "source": [
    "Build three classifiers using (**Naive Bayes, Logistic Regression, KNN**). Use the first $80\\%$ data for training and the remaining $20\\%$ for testing. If you use $\\textsf{scikit-learn}$ you can use $\\textsf{train_test_split}$ to split the dataset. \n",
    "\n",
    "Remark: Please note that, here, for Naive Bayes, this means that we have to estimate the variance for each individual feature from training data. When estimating the variance, if the variance is zero to close to zero (meaning that there is very little variability in the feature), you can set the variance to be a small number, e.g., $\\epsilon = 10^{-3}$. We do not want to have include zero or nearly variance in Naive Bayes. This tip holds for both Part One and Part Two of this question.\n",
    "\n"
   ]
  },
  {
   "cell_type": "code",
   "execution_count": 20,
   "metadata": {},
   "outputs": [],
   "source": [
    "import os\n",
    "import numpy as np\n",
    "import pandas as pd\n",
    "from sklearn.model_selection import train_test_split"
   ]
  },
  {
   "cell_type": "markdown",
   "metadata": {},
   "source": [
    "#### Data Preparation\n",
    "* Read data into csv\n",
    "* Train and split data randomly 80%/20%"
   ]
  },
  {
   "cell_type": "code",
   "execution_count": 6,
   "metadata": {},
   "outputs": [
    {
     "data": {
      "text/html": [
       "<div>\n",
       "<style scoped>\n",
       "    .dataframe tbody tr th:only-of-type {\n",
       "        vertical-align: middle;\n",
       "    }\n",
       "\n",
       "    .dataframe tbody tr th {\n",
       "        vertical-align: top;\n",
       "    }\n",
       "\n",
       "    .dataframe thead th {\n",
       "        text-align: right;\n",
       "    }\n",
       "</style>\n",
       "<table border=\"1\" class=\"dataframe\">\n",
       "  <thead>\n",
       "    <tr style=\"text-align: right;\">\n",
       "      <th></th>\n",
       "      <th>0</th>\n",
       "      <th>1</th>\n",
       "      <th>2</th>\n",
       "      <th>3</th>\n",
       "      <th>4</th>\n",
       "      <th>5</th>\n",
       "      <th>6</th>\n",
       "      <th>7</th>\n",
       "      <th>8</th>\n",
       "      <th>9</th>\n",
       "      <th>...</th>\n",
       "      <th>45</th>\n",
       "      <th>46</th>\n",
       "      <th>47</th>\n",
       "      <th>48</th>\n",
       "      <th>49</th>\n",
       "      <th>50</th>\n",
       "      <th>51</th>\n",
       "      <th>52</th>\n",
       "      <th>53</th>\n",
       "      <th>54</th>\n",
       "    </tr>\n",
       "  </thead>\n",
       "  <tbody>\n",
       "    <tr>\n",
       "      <th>0</th>\n",
       "      <td>1.560903</td>\n",
       "      <td>3.681587</td>\n",
       "      <td>3.450467</td>\n",
       "      <td>3.211998</td>\n",
       "      <td>-1.203045</td>\n",
       "      <td>0.597706</td>\n",
       "      <td>-0.970093</td>\n",
       "      <td>-0.750970</td>\n",
       "      <td>-0.511495</td>\n",
       "      <td>-0.133660</td>\n",
       "      <td>...</td>\n",
       "      <td>2.077401</td>\n",
       "      <td>1.184182</td>\n",
       "      <td>3.955069</td>\n",
       "      <td>2.608046</td>\n",
       "      <td>2.303629</td>\n",
       "      <td>1.721660</td>\n",
       "      <td>3.275018</td>\n",
       "      <td>1.761019</td>\n",
       "      <td>1.215237</td>\n",
       "      <td>1.0</td>\n",
       "    </tr>\n",
       "    <tr>\n",
       "      <th>1</th>\n",
       "      <td>4.153272</td>\n",
       "      <td>5.173858</td>\n",
       "      <td>4.100690</td>\n",
       "      <td>2.580173</td>\n",
       "      <td>3.305788</td>\n",
       "      <td>-1.505512</td>\n",
       "      <td>-0.029398</td>\n",
       "      <td>5.702657</td>\n",
       "      <td>2.230281</td>\n",
       "      <td>4.975496</td>\n",
       "      <td>...</td>\n",
       "      <td>3.467076</td>\n",
       "      <td>2.451984</td>\n",
       "      <td>3.504294</td>\n",
       "      <td>5.324240</td>\n",
       "      <td>4.480607</td>\n",
       "      <td>5.375248</td>\n",
       "      <td>2.270379</td>\n",
       "      <td>2.167944</td>\n",
       "      <td>2.191214</td>\n",
       "      <td>1.0</td>\n",
       "    </tr>\n",
       "    <tr>\n",
       "      <th>2</th>\n",
       "      <td>2.226241</td>\n",
       "      <td>1.575322</td>\n",
       "      <td>2.389117</td>\n",
       "      <td>2.725405</td>\n",
       "      <td>-0.304562</td>\n",
       "      <td>2.832803</td>\n",
       "      <td>1.787779</td>\n",
       "      <td>0.565755</td>\n",
       "      <td>1.328212</td>\n",
       "      <td>2.335353</td>\n",
       "      <td>...</td>\n",
       "      <td>1.200917</td>\n",
       "      <td>1.241794</td>\n",
       "      <td>2.207492</td>\n",
       "      <td>1.228034</td>\n",
       "      <td>0.870052</td>\n",
       "      <td>1.685040</td>\n",
       "      <td>2.341985</td>\n",
       "      <td>-0.444320</td>\n",
       "      <td>2.527452</td>\n",
       "      <td>1.0</td>\n",
       "    </tr>\n",
       "    <tr>\n",
       "      <th>3</th>\n",
       "      <td>3.553458</td>\n",
       "      <td>2.859042</td>\n",
       "      <td>2.928414</td>\n",
       "      <td>1.833241</td>\n",
       "      <td>1.271119</td>\n",
       "      <td>4.165213</td>\n",
       "      <td>2.078597</td>\n",
       "      <td>4.506175</td>\n",
       "      <td>2.521628</td>\n",
       "      <td>2.747315</td>\n",
       "      <td>...</td>\n",
       "      <td>3.196291</td>\n",
       "      <td>2.204824</td>\n",
       "      <td>3.664982</td>\n",
       "      <td>3.689508</td>\n",
       "      <td>2.577677</td>\n",
       "      <td>3.171884</td>\n",
       "      <td>2.164660</td>\n",
       "      <td>1.813024</td>\n",
       "      <td>1.376033</td>\n",
       "      <td>1.0</td>\n",
       "    </tr>\n",
       "    <tr>\n",
       "      <th>4</th>\n",
       "      <td>0.506547</td>\n",
       "      <td>1.419223</td>\n",
       "      <td>1.716153</td>\n",
       "      <td>1.319274</td>\n",
       "      <td>2.853840</td>\n",
       "      <td>0.047412</td>\n",
       "      <td>-0.016515</td>\n",
       "      <td>0.620795</td>\n",
       "      <td>1.202992</td>\n",
       "      <td>0.078347</td>\n",
       "      <td>...</td>\n",
       "      <td>1.806657</td>\n",
       "      <td>2.085539</td>\n",
       "      <td>2.012551</td>\n",
       "      <td>1.899477</td>\n",
       "      <td>1.510134</td>\n",
       "      <td>1.373350</td>\n",
       "      <td>2.551119</td>\n",
       "      <td>0.846321</td>\n",
       "      <td>-0.066858</td>\n",
       "      <td>1.0</td>\n",
       "    </tr>\n",
       "  </tbody>\n",
       "</table>\n",
       "<p>5 rows × 55 columns</p>\n",
       "</div>"
      ],
      "text/plain": [
       "         0         1         2         3         4         5         6   \\\n",
       "0  1.560903  3.681587  3.450467  3.211998 -1.203045  0.597706 -0.970093   \n",
       "1  4.153272  5.173858  4.100690  2.580173  3.305788 -1.505512 -0.029398   \n",
       "2  2.226241  1.575322  2.389117  2.725405 -0.304562  2.832803  1.787779   \n",
       "3  3.553458  2.859042  2.928414  1.833241  1.271119  4.165213  2.078597   \n",
       "4  0.506547  1.419223  1.716153  1.319274  2.853840  0.047412 -0.016515   \n",
       "\n",
       "         7         8         9   ...        45        46        47        48  \\\n",
       "0 -0.750970 -0.511495 -0.133660  ...  2.077401  1.184182  3.955069  2.608046   \n",
       "1  5.702657  2.230281  4.975496  ...  3.467076  2.451984  3.504294  5.324240   \n",
       "2  0.565755  1.328212  2.335353  ...  1.200917  1.241794  2.207492  1.228034   \n",
       "3  4.506175  2.521628  2.747315  ...  3.196291  2.204824  3.664982  3.689508   \n",
       "4  0.620795  1.202992  0.078347  ...  1.806657  2.085539  2.012551  1.899477   \n",
       "\n",
       "         49        50        51        52        53   54  \n",
       "0  2.303629  1.721660  3.275018  1.761019  1.215237  1.0  \n",
       "1  4.480607  5.375248  2.270379  2.167944  2.191214  1.0  \n",
       "2  0.870052  1.685040  2.341985 -0.444320  2.527452  1.0  \n",
       "3  2.577677  3.171884  2.164660  1.813024  1.376033  1.0  \n",
       "4  1.510134  1.373350  2.551119  0.846321 -0.066858  1.0  \n",
       "\n",
       "[5 rows x 55 columns]"
      ]
     },
     "execution_count": 6,
     "metadata": {},
     "output_type": "execute_result"
    }
   ],
   "source": [
    "# read the data set and display top 5 rows\n",
    "df_mar = pd.read_csv('marriage.csv', header=None)\n",
    "df_mar.head()"
   ]
  },
  {
   "cell_type": "code",
   "execution_count": 11,
   "metadata": {},
   "outputs": [
    {
     "data": {
      "text/plain": [
       "(170, 55)"
      ]
     },
     "execution_count": 11,
     "metadata": {},
     "output_type": "execute_result"
    }
   ],
   "source": [
    "df_mar.shape"
   ]
  },
  {
   "cell_type": "code",
   "execution_count": 16,
   "metadata": {},
   "outputs": [],
   "source": [
    "# the data set contains both x - features and y - label, split for future calculation\n",
    "# Per discussion from Piazza, no need for scale data\n",
    "df_x = df_mar.iloc[:,:-1]\n",
    "df_y = df_mar.iloc[:,-1]"
   ]
  },
  {
   "cell_type": "code",
   "execution_count": 17,
   "metadata": {},
   "outputs": [
    {
     "data": {
      "text/plain": [
       "(170, 54)"
      ]
     },
     "execution_count": 17,
     "metadata": {},
     "output_type": "execute_result"
    }
   ],
   "source": [
    "df_x.shape"
   ]
  },
  {
   "cell_type": "code",
   "execution_count": 18,
   "metadata": {},
   "outputs": [
    {
     "data": {
      "text/plain": [
       "(170,)"
      ]
     },
     "execution_count": 18,
     "metadata": {},
     "output_type": "execute_result"
    }
   ],
   "source": [
    "df_y.shape"
   ]
  },
  {
   "cell_type": "code",
   "execution_count": 367,
   "metadata": {},
   "outputs": [],
   "source": [
    "# Split data: 80% for training and 20% for testing\n",
    "X_train, X_test, y_train, y_test = train_test_split(df_x, df_y, test_size=0.2, random_state=123, stratify = df_y, shuffle=True)"
   ]
  },
  {
   "cell_type": "markdown",
   "metadata": {},
   "source": [
    "#### (a)\n",
    "(15 points) Report testing accuracy for each of the three classifiers.  Comment on their performance: which performs the best and make a guess why they perform the best in this setting. "
   ]
  },
  {
   "cell_type": "markdown",
   "metadata": {},
   "source": [
    "#### Naive Bayes"
   ]
  },
  {
   "cell_type": "code",
   "execution_count": 294,
   "metadata": {},
   "outputs": [],
   "source": [
    "from sklearn.naive_bayes import GaussianNB"
   ]
  },
  {
   "cell_type": "code",
   "execution_count": 295,
   "metadata": {},
   "outputs": [],
   "source": [
    "# Define function for Naive Bayes Classifier\n",
    "def NBClassify(features_train, labels_train, err):\n",
    "\n",
    "    clf = GaussianNB(var_smoothing=err)\n",
    "    clf.fit(features_train, labels_train)\n",
    "    return clf"
   ]
  },
  {
   "cell_type": "code",
   "execution_count": 296,
   "metadata": {},
   "outputs": [],
   "source": [
    "nbclf = NBClassify(X_train, y_train, 1e-03)"
   ]
  },
  {
   "cell_type": "code",
   "execution_count": 297,
   "metadata": {},
   "outputs": [],
   "source": [
    "y_nb = nbclf.predict(X_test)"
   ]
  },
  {
   "cell_type": "code",
   "execution_count": 298,
   "metadata": {},
   "outputs": [
    {
     "data": {
      "text/plain": [
       "0.9411764705882353"
      ]
     },
     "execution_count": 298,
     "metadata": {},
     "output_type": "execute_result"
    }
   ],
   "source": [
    "from sklearn.metrics import accuracy_score\n",
    "nb_acc = accuracy_score(y_nb, y_test)\n",
    "nb_acc"
   ]
  },
  {
   "cell_type": "markdown",
   "metadata": {},
   "source": [
    "#### Logistics Regression"
   ]
  },
  {
   "cell_type": "code",
   "execution_count": 299,
   "metadata": {},
   "outputs": [],
   "source": [
    "from sklearn.linear_model import LogisticRegression"
   ]
  },
  {
   "cell_type": "code",
   "execution_count": 300,
   "metadata": {},
   "outputs": [],
   "source": [
    "lgclf = LogisticRegression(penalty='none')\n",
    "lgclf.fit(X_train, y_train)\n",
    "y_log = lgclf.predict(X_test)"
   ]
  },
  {
   "cell_type": "code",
   "execution_count": 301,
   "metadata": {},
   "outputs": [
    {
     "data": {
      "text/plain": [
       "0.9411764705882353"
      ]
     },
     "execution_count": 301,
     "metadata": {},
     "output_type": "execute_result"
    }
   ],
   "source": [
    "from sklearn.metrics import accuracy_score\n",
    "nb_acc = accuracy_score(y_log, y_test)\n",
    "nb_acc"
   ]
  },
  {
   "cell_type": "markdown",
   "metadata": {},
   "source": [
    "#### KNN"
   ]
  },
  {
   "cell_type": "code",
   "execution_count": 368,
   "metadata": {},
   "outputs": [],
   "source": [
    "# apply KNN with different k to find the best k for the model\n",
    "# use the training data to train the data and test data to calculate the accuracy score\n",
    "# at the end output the accuracy score associated with k\n",
    "\n",
    "def KNNClassify(features_train, labels_train, features_test, labels_test, kmax=10):\n",
    "    from sklearn.neighbors import KNeighborsClassifier\n",
    "    from sklearn.metrics import accuracy_score\n",
    "    \n",
    "    ml_acc = 0\n",
    "    ml_k = 0\n",
    "    for i in range(1,kmax):\n",
    "        knn = KNeighborsClassifier(n_neighbors=i)\n",
    "        knn.fit(features_train, labels_train)\n",
    "        labels_pred = knn.predict(features_test)\n",
    "        knn_acc = accuracy_score(labels_pred, labels_test)\n",
    "        print('{} neighbors accuracy = {}'.format(i, knn_acc))\n",
    "        if knn_acc >= ml_acc:\n",
    "            ml_acc = knn_acc\n",
    "            ml_k = i\n",
    "    print('best k = {}; accuracy = {}'.format(ml_k, ml_acc))        \n",
    "    return ml_k, ml_acc"
   ]
  },
  {
   "cell_type": "code",
   "execution_count": 369,
   "metadata": {
    "scrolled": true
   },
   "outputs": [
    {
     "name": "stdout",
     "output_type": "stream",
     "text": [
      "1 neighbors accuracy = 0.9411764705882353\n",
      "2 neighbors accuracy = 0.9411764705882353\n",
      "3 neighbors accuracy = 0.9411764705882353\n",
      "4 neighbors accuracy = 0.9411764705882353\n",
      "5 neighbors accuracy = 0.9411764705882353\n",
      "6 neighbors accuracy = 0.9411764705882353\n",
      "7 neighbors accuracy = 0.9411764705882353\n",
      "8 neighbors accuracy = 0.9411764705882353\n",
      "9 neighbors accuracy = 0.9411764705882353\n",
      "best k = 9; accuracy = 0.9411764705882353\n"
     ]
    }
   ],
   "source": [
    "k, acc = KNNClassify(X_train, y_train, X_test, y_test,10)"
   ]
  },
  {
   "cell_type": "markdown",
   "metadata": {},
   "source": [
    "##### From above result, KNN always have the same result for this training/test data set\n",
    "* potential reason could be the random split of train and test data\n",
    "* Since this is 0,1 binary classification, KNN is not a good fit for this because it only has two clusters\n",
    "<br>\n",
    "<br>\n",
    "In this case, use k = 5 as a general number"
   ]
  },
  {
   "cell_type": "code",
   "execution_count": 304,
   "metadata": {},
   "outputs": [
    {
     "data": {
      "text/plain": [
       "0.9411764705882353"
      ]
     },
     "execution_count": 304,
     "metadata": {},
     "output_type": "execute_result"
    }
   ],
   "source": [
    "# run the KNN classification with selected k\n",
    "from sklearn.neighbors import KNeighborsClassifier\n",
    "from sklearn.metrics import accuracy_score\n",
    "knn = KNeighborsClassifier(n_neighbors=5)\n",
    "knn.fit(X_train, y_train)\n",
    "labels_pred = knn.predict(X_test)\n",
    "knn_acc = accuracy_score(labels_pred, y_test)\n",
    "knn_acc"
   ]
  },
  {
   "cell_type": "markdown",
   "metadata": {},
   "source": [
    "#### Comment:\n",
    "\n",
    "At the end, the 3 classification models generates exactly the same accuracy result.\n",
    "Other test scanerios were performed on the random state of train/split and train/split percentage. \n",
    "\n",
    "Overall, the three models finds the same accuracy result at the end. \n",
    "\n",
    "1. It could be the reason of the data quality. The data set quality can be in good quality with less noisy so the classification models land the same at the end. \n",
    "2. The data set is small, and the test set is even smaller, plus it is a binary classification so it is too easy for the models to perform the classification and the results happen to be the same\n",
    "3. We are only using the accuracy store to compare besides the above point that the classification is binary. So the percentage could be the same but there might be slightly different labels at point level"
   ]
  },
  {
   "cell_type": "markdown",
   "metadata": {},
   "source": [
    "#### (b)\n",
    "(15 points) Now perform PCA to project the data into two-dimensional space. Plot the data points and decision boundary of each classifier. Comment on the difference between the decision boundary for the three classifiers. Please clearly represent the data points with different labels using different colors."
   ]
  },
  {
   "cell_type": "markdown",
   "metadata": {},
   "source": [
    "#### PCA Application"
   ]
  },
  {
   "cell_type": "code",
   "execution_count": 307,
   "metadata": {},
   "outputs": [
    {
     "name": "stdout",
     "output_type": "stream",
     "text": [
      "[0.55095986 0.03378742]\n",
      "[129.51817306  32.07364052]\n"
     ]
    }
   ],
   "source": [
    "# Perform PCA from sklearn over all X\n",
    "from sklearn.decomposition import PCA\n",
    "pca = PCA(n_components=2, svd_solver='full')\n",
    "pca.fit(df_x)\n",
    "\n",
    "print(pca.explained_variance_ratio_)\n",
    "print(pca.singular_values_)\n"
   ]
  },
  {
   "cell_type": "code",
   "execution_count": 311,
   "metadata": {},
   "outputs": [],
   "source": [
    "# apply dimensional reduction to dataset\n",
    "df_pca = pca.transform(df_x)"
   ]
  },
  {
   "cell_type": "code",
   "execution_count": 312,
   "metadata": {},
   "outputs": [],
   "source": [
    "# Split data: 80% for training and 20% for testing\n",
    "X_train, X_test, y_train, y_test = train_test_split(df_pca, df_y, test_size=0.2, random_state=123, stratify = df_y, shuffle=True)"
   ]
  },
  {
   "cell_type": "markdown",
   "metadata": {},
   "source": [
    "#### Plot Decision Boundary"
   ]
  },
  {
   "cell_type": "code",
   "execution_count": 317,
   "metadata": {},
   "outputs": [],
   "source": [
    "import matplotlib.pyplot as plt\n",
    "from matplotlib.colors import ListedColormap"
   ]
  },
  {
   "cell_type": "code",
   "execution_count": 333,
   "metadata": {},
   "outputs": [
    {
     "data": {
      "image/png": "[encoded data removed]",
      "text/plain": [
       "<Figure size 864x216 with 4 Axes>"
      ]
     },
     "metadata": {},
     "output_type": "display_data"
    }
   ],
   "source": [
    "# Method from SKlearn example\n",
    "# reference page: https://scikit-learn.org/stable/auto_examples/classification/plot_classifier_comparison.html\n",
    "\n",
    "figure = plt.figure(figsize=(12, 3))\n",
    "\n",
    "\n",
    "h = .02  # step size in the mesh\n",
    "\n",
    "names = [\"Naive Bayes\", \"Logistics Regression\", \"K Nearest Neighbors\"]\n",
    "\n",
    "classifiers = [\n",
    "    GaussianNB(var_smoothing=1e-3),\n",
    "    LogisticRegression(penalty='none'),\n",
    "    KNeighborsClassifier(n_neighbors=5)]\n",
    "\n",
    "\n",
    "\n",
    "x_min, x_max = df_pca[:, 0].min() - .5, df_pca[:, 0].max() + .5\n",
    "y_min, y_max = df_pca[:, 1].min() - .5, df_pca[:, 1].max() + .5\n",
    "xx, yy = np.meshgrid(np.arange(x_min, x_max, h),\n",
    "                     np.arange(y_min, y_max, h))\n",
    "\n",
    "# just plot the dataset first\n",
    "cm = plt.cm.RdBu\n",
    "cm_bright = ListedColormap(['#FF0000', '#0000FF'])\n",
    "\n",
    "ax = plt.subplot(1, len(classifiers) + 1, 1)\n",
    "\n",
    "# Plot the training points\n",
    "ax.scatter(X_train[:, 0], X_train[:, 1], c=y_train, cmap=cm_bright, edgecolors='k')\n",
    "# Plot the testing points\n",
    "ax.scatter(X_test[:, 0], X_test[:, 1], c=y_test, cmap=cm_bright, alpha=0.6, edgecolors='k')\n",
    "ax.set_xlim(xx.min(), xx.max())\n",
    "ax.set_ylim(yy.min(), yy.max())\n",
    "ax.set_xticks(())\n",
    "ax.set_yticks(())\n",
    "\n",
    "i = 2\n",
    "for name, clf in zip(names, classifiers):\n",
    "        ax = plt.subplot(1, len(classifiers) + 1, i)\n",
    "        clf.fit(X_train, y_train)\n",
    "        score = clf.score(X_test, y_test)\n",
    "\n",
    "        # Plot the decision boundary. For that, we will assign a color to each\n",
    "        # point in the mesh [x_min, x_max]x[y_min, y_max].\n",
    "        if hasattr(clf, \"decision_function\"):\n",
    "            Z = clf.decision_function(np.c_[xx.ravel(), yy.ravel()])\n",
    "        else:\n",
    "            Z = clf.predict_proba(np.c_[xx.ravel(), yy.ravel()])[:, 1]\n",
    "        \n",
    "        # Put the result into a color plot\n",
    "        Z = Z.reshape(xx.shape)\n",
    "        ax.contourf(xx, yy, Z, cmap=cm, alpha=.8)\n",
    "\n",
    "        # Plot the training points\n",
    "        ax.scatter(X_train[:, 0], X_train[:, 1], c=y_train, cmap=cm_bright,\n",
    "                   edgecolors='k')\n",
    "        # Plot the testing points\n",
    "        ax.scatter(X_test[:, 0], X_test[:, 1], c=y_test, cmap=cm_bright,\n",
    "                   edgecolors='k', alpha=0.4)\n",
    "\n",
    "        ax.set_xlim(xx.min(), xx.max())\n",
    "        ax.set_ylim(yy.min(), yy.max())\n",
    "        ax.set_xticks(())\n",
    "        ax.set_yticks(())\n",
    "    \n",
    "        ax.set_title(name)\n",
    "        ax.text(xx.max() - .3, yy.min() + .3, ('%.2f' % score).lstrip('0'),\n",
    "                size=15, horizontalalignment='right')\n",
    "        i += 1\n",
    "\n",
    "\n",
    "        \n",
    "plt.tight_layout()\n",
    "plt.show()"
   ]
  },
  {
   "cell_type": "markdown",
   "metadata": {},
   "source": [
    "#### Comments:\n",
    "\n",
    "First the data set is clearly clustered into two groups with very few noisy points.\n",
    "So the model will also highly depend on the train/split because the selection of those outliers will have a bigger impact of the model accuracy. \n",
    "\n",
    "Among three models,<br>\n",
    "Navie Bayes and Logsitics Regression are parameter based so the boundary is more clear while KNN is non-parametic with a more customized boundary. <br>\n",
    "In this case, the KNN seems better when predicting outliers or noisy points. \n",
    "Overall logistics has a slightly better performance over the rest of two but it might be due to the data selection and data size. I would suggest all three models have equally strong performance in general."
   ]
  },
  {
   "cell_type": "markdown",
   "metadata": {},
   "source": [
    "#### Part Two (Handwritten digits classification) (30 points)\n",
    "Repeat the above using the $\\textbf{MNIST Data}$ in our previous homework. Here, give \"digit\" 6 label $y = 1$, and give \"digit\" 2 label $y = 0$. All the pixels in each image will be the feature (predictor variables) for that sample (i.e., image). Our goal is to build classifier to such that given a new test sample, we can tell is it a 2 or a 6. Using the first $80\\%$ of the samples for training and remaining $20\\%$ for testing. "
   ]
  },
  {
   "cell_type": "markdown",
   "metadata": {},
   "source": [
    "#### Answer:"
   ]
  },
  {
   "cell_type": "code",
   "execution_count": 334,
   "metadata": {},
   "outputs": [],
   "source": [
    "import scipy.io as spio"
   ]
  },
  {
   "cell_type": "code",
   "execution_count": 336,
   "metadata": {},
   "outputs": [],
   "source": [
    "# Read MNIST data\n",
    "\n",
    "# read from image\n",
    "img_raw = spio.loadmat('data.mat')\n",
    "# read data from true label\n",
    "label_raw = spio.loadmat('label.mat')"
   ]
  },
  {
   "cell_type": "code",
   "execution_count": 341,
   "metadata": {},
   "outputs": [
    {
     "data": {
      "text/plain": [
       "(784, 1990)"
      ]
     },
     "execution_count": 341,
     "metadata": {},
     "output_type": "execute_result"
    }
   ],
   "source": [
    "# read the data into numpy array\n",
    "df_img = img_raw['data']\n",
    "df_img.shape"
   ]
  },
  {
   "cell_type": "code",
   "execution_count": 339,
   "metadata": {},
   "outputs": [
    {
     "data": {
      "text/plain": [
       "(1, 1990)"
      ]
     },
     "execution_count": 339,
     "metadata": {},
     "output_type": "execute_result"
    }
   ],
   "source": [
    "df_label = label_raw['trueLabel']\n",
    "df_label.shape"
   ]
  },
  {
   "cell_type": "code",
   "execution_count": 344,
   "metadata": {},
   "outputs": [
    {
     "data": {
      "text/plain": [
       "<matplotlib.image.AxesImage at 0x7fecec8cbbb0>"
      ]
     },
     "execution_count": 344,
     "metadata": {},
     "output_type": "execute_result"
    },
    {
     "data": {
      "image/png": "[encoded data removed]",
      "text/plain": [
       "<Figure size 576x288 with 2 Axes>"
      ]
     },
     "metadata": {
      "needs_background": "light"
     },
     "output_type": "display_data"
    }
   ],
   "source": [
    "fig, ax = plt.subplots(1,2,figsize=(8,4), sharey=True, sharex=True)\n",
    "ax[0].imshow(df_img[:,0].reshape(28,28).T, cmap='gray')\n",
    "ax[1].imshow(df_img[:,-1].reshape(28,28).T, cmap='gray')"
   ]
  },
  {
   "cell_type": "code",
   "execution_count": 383,
   "metadata": {},
   "outputs": [
    {
     "data": {
      "text/plain": [
       "{2, 6}"
      ]
     },
     "execution_count": 383,
     "metadata": {},
     "output_type": "execute_result"
    }
   ],
   "source": [
    "set(df_label.ravel())"
   ]
  },
  {
   "cell_type": "code",
   "execution_count": 384,
   "metadata": {},
   "outputs": [],
   "source": [
    "# Change the label in y: digit 6: 1; digit 2: 0\n",
    "label_map = {2:0, 6:1}"
   ]
  },
  {
   "cell_type": "code",
   "execution_count": 388,
   "metadata": {},
   "outputs": [],
   "source": [
    "df_y = np.vectorize(label_map.get)(df_label)"
   ]
  },
  {
   "cell_type": "code",
   "execution_count": 389,
   "metadata": {},
   "outputs": [
    {
     "data": {
      "text/plain": [
       "{0, 1}"
      ]
     },
     "execution_count": 389,
     "metadata": {},
     "output_type": "execute_result"
    }
   ],
   "source": [
    "set(df_y.ravel())"
   ]
  },
  {
   "cell_type": "code",
   "execution_count": 390,
   "metadata": {},
   "outputs": [],
   "source": [
    "# Need to transpose the array to make each row as one image and each pixel as one col\n",
    "X = df_img.T\n",
    "\n",
    "# y in sklearn would be only 1-D array\n",
    "y = df_y.ravel()"
   ]
  },
  {
   "cell_type": "code",
   "execution_count": 391,
   "metadata": {},
   "outputs": [],
   "source": [
    "# Split train/test data\n",
    "X_train, X_test, y_train, y_test = train_test_split(X, y, test_size=0.2, random_state=123, stratify = y, shuffle=True)"
   ]
  },
  {
   "cell_type": "markdown",
   "metadata": {},
   "source": [
    "#### (a)\n",
    "(15 points) Report testing accuracy for each of the three classifiers.  Comment on their performance: which performs the best and make a guess why they perform the best in this setting. "
   ]
  },
  {
   "cell_type": "markdown",
   "metadata": {},
   "source": [
    "#### Naive Bayes \n"
   ]
  },
  {
   "cell_type": "code",
   "execution_count": 392,
   "metadata": {},
   "outputs": [
    {
     "data": {
      "text/plain": [
       "0.9271356783919598"
      ]
     },
     "execution_count": 392,
     "metadata": {},
     "output_type": "execute_result"
    }
   ],
   "source": [
    "nb = GaussianNB(var_smoothing=1e-3)\n",
    "nb.fit(X_train, y_train)\n",
    "y_nb = nb.predict(X_test)\n",
    "\n",
    "nb_acc = accuracy_score(y_nb, y_test)\n",
    "nb_acc"
   ]
  },
  {
   "cell_type": "markdown",
   "metadata": {},
   "source": [
    "#### Logistics Regression"
   ]
  },
  {
   "cell_type": "code",
   "execution_count": 393,
   "metadata": {},
   "outputs": [
    {
     "data": {
      "text/plain": [
       "0.9673366834170855"
      ]
     },
     "execution_count": 393,
     "metadata": {},
     "output_type": "execute_result"
    }
   ],
   "source": [
    "lgclf = LogisticRegression(penalty='none')\n",
    "lgclf.fit(X_train, y_train)\n",
    "y_log = lgclf.predict(X_test)\n",
    "nb_acc = accuracy_score(y_log, y_test)\n",
    "nb_acc"
   ]
  },
  {
   "cell_type": "markdown",
   "metadata": {},
   "source": [
    "#### KNN"
   ]
  },
  {
   "cell_type": "code",
   "execution_count": 394,
   "metadata": {},
   "outputs": [
    {
     "name": "stdout",
     "output_type": "stream",
     "text": [
      "1 neighbors accuracy = 0.9949748743718593\n",
      "2 neighbors accuracy = 0.9949748743718593\n",
      "3 neighbors accuracy = 0.9949748743718593\n",
      "4 neighbors accuracy = 0.9949748743718593\n",
      "5 neighbors accuracy = 0.9949748743718593\n",
      "6 neighbors accuracy = 0.992462311557789\n",
      "7 neighbors accuracy = 0.9899497487437185\n",
      "8 neighbors accuracy = 0.9899497487437185\n",
      "9 neighbors accuracy = 0.9899497487437185\n",
      "best k = 5; accuracy = 0.9949748743718593\n"
     ]
    }
   ],
   "source": [
    "k, acc = KNNClassify(X_train, y_train, X_test, y_test,10)"
   ]
  },
  {
   "cell_type": "code",
   "execution_count": 395,
   "metadata": {
    "scrolled": true
   },
   "outputs": [
    {
     "data": {
      "text/plain": [
       "0.9949748743718593"
      ]
     },
     "execution_count": 395,
     "metadata": {},
     "output_type": "execute_result"
    }
   ],
   "source": [
    "# run the KNN classification with selected k\n",
    "from sklearn.neighbors import KNeighborsClassifier\n",
    "from sklearn.metrics import accuracy_score\n",
    "knn = KNeighborsClassifier(n_neighbors=5)\n",
    "knn.fit(X_train, y_train)\n",
    "labels_pred = knn.predict(X_test)\n",
    "knn_acc = accuracy_score(labels_pred, y_test)\n",
    "knn_acc"
   ]
  },
  {
   "cell_type": "markdown",
   "metadata": {},
   "source": [
    "#### Comments:\n",
    "\n",
    "Among the 3 classification models, KNN has the best performance over Naive Bayes and Logistics Regression.\n",
    "From my point of view, it is because KNN is non-parametric model so it deals better with noise data prediction with a more flexible and dynamic decision boundary. This might fit better in image matrix classification because the pixel could have more noise. "
   ]
  },
  {
   "cell_type": "markdown",
   "metadata": {},
   "source": [
    "#### (b)\n",
    "(15 points) Now perform PCA to project the data into two-dimensional space. Plot the data points and decision boundary of each classifier. Comment on the difference between the decision boundary for the three classifiers. Please clearly represent the data points with different labels using different colors."
   ]
  },
  {
   "cell_type": "code",
   "execution_count": 397,
   "metadata": {},
   "outputs": [
    {
     "name": "stdout",
     "output_type": "stream",
     "text": [
      "[0.11723304 0.0799279 ]\n",
      "[109.67772186  90.56129323]\n"
     ]
    }
   ],
   "source": [
    "# PCA Application\n",
    "\n",
    "# Perform PCA from sklearn over all X\n",
    "from sklearn.decomposition import PCA\n",
    "pca = PCA(n_components=2, svd_solver='full')\n",
    "pca.fit(X)\n",
    "\n",
    "print(pca.explained_variance_ratio_)\n",
    "print(pca.singular_values_)"
   ]
  },
  {
   "cell_type": "code",
   "execution_count": 398,
   "metadata": {},
   "outputs": [],
   "source": [
    "# apply dimensional reduction to X\n",
    "df_pca = pca.transform(X)"
   ]
  },
  {
   "cell_type": "code",
   "execution_count": 401,
   "metadata": {},
   "outputs": [],
   "source": [
    "# Split data: 80% for training and 20% for testing\n",
    "X_train, X_test, y_train, y_test = train_test_split(df_pca, y, test_size=0.2, random_state=123, stratify = y, shuffle=True)"
   ]
  },
  {
   "cell_type": "code",
   "execution_count": 403,
   "metadata": {},
   "outputs": [
    {
     "data": {
      "image/png": "[encoded data removed]",
      "text/plain": [
       "<Figure size 864x216 with 4 Axes>"
      ]
     },
     "metadata": {},
     "output_type": "display_data"
    }
   ],
   "source": [
    "# Method from SKlearn example\n",
    "# reference page: https://scikit-learn.org/stable/auto_examples/classification/plot_classifier_comparison.html\n",
    "\n",
    "figure = plt.figure(figsize=(12, 3))\n",
    "\n",
    "\n",
    "h = .02  # step size in the mesh\n",
    "\n",
    "names = [\"Naive Bayes\", \"Logistics Regression\", \"K Nearest Neighbors\"]\n",
    "\n",
    "classifiers = [\n",
    "    GaussianNB(var_smoothing=1e-3),\n",
    "    LogisticRegression(penalty='none'),\n",
    "    KNeighborsClassifier(n_neighbors=5)]\n",
    "\n",
    "\n",
    "\n",
    "x_min, x_max = df_pca[:, 0].min() - .5, df_pca[:, 0].max() + .5\n",
    "y_min, y_max = df_pca[:, 1].min() - .5, df_pca[:, 1].max() + .5\n",
    "xx, yy = np.meshgrid(np.arange(x_min, x_max, h),\n",
    "                     np.arange(y_min, y_max, h))\n",
    "\n",
    "# just plot the dataset first\n",
    "cm = plt.cm.RdBu\n",
    "cm_bright = ListedColormap(['#FF0000', '#0000FF'])\n",
    "\n",
    "ax = plt.subplot(1, len(classifiers) + 1, 1)\n",
    "\n",
    "# Plot the training points\n",
    "ax.scatter(X_train[:, 0], X_train[:, 1], c=y_train, cmap=cm_bright, edgecolors='k')\n",
    "# Plot the testing points\n",
    "ax.scatter(X_test[:, 0], X_test[:, 1], c=y_test, cmap=cm_bright, alpha=0.6, edgecolors='k')\n",
    "ax.set_xlim(xx.min(), xx.max())\n",
    "ax.set_ylim(yy.min(), yy.max())\n",
    "ax.set_xticks(())\n",
    "ax.set_yticks(())\n",
    "\n",
    "i = 2\n",
    "for name, clf in zip(names, classifiers):\n",
    "        ax = plt.subplot(1, len(classifiers) + 1, i)\n",
    "        clf.fit(X_train, y_train)\n",
    "        score = clf.score(X_test, y_test)\n",
    "\n",
    "        # Plot the decision boundary. For that, we will assign a color to each\n",
    "        # point in the mesh [x_min, x_max]x[y_min, y_max].\n",
    "        if hasattr(clf, \"decision_function\"):\n",
    "            Z = clf.decision_function(np.c_[xx.ravel(), yy.ravel()])\n",
    "        else:\n",
    "            Z = clf.predict_proba(np.c_[xx.ravel(), yy.ravel()])[:, 1]\n",
    "        \n",
    "        # Put the result into a color plot\n",
    "        Z = Z.reshape(xx.shape)\n",
    "        ax.contourf(xx, yy, Z, cmap=cm, alpha=.8)\n",
    "\n",
    "        # Plot the training points\n",
    "        ax.scatter(X_train[:, 0], X_train[:, 1], c=y_train, cmap=cm_bright,\n",
    "                   edgecolors='k')\n",
    "        # Plot the testing points\n",
    "        ax.scatter(X_test[:, 0], X_test[:, 1], c=y_test, cmap=cm_bright,\n",
    "                   edgecolors='k', alpha=0.4)\n",
    "\n",
    "        ax.set_xlim(xx.min(), xx.max())\n",
    "        ax.set_ylim(yy.min(), yy.max())\n",
    "        ax.set_xticks(())\n",
    "        ax.set_yticks(())\n",
    "    \n",
    "        ax.set_title(name)\n",
    "        ax.text(xx.max() - .3, yy.min() + .3, ('%.3f' % score).lstrip('0'),\n",
    "                size=15, horizontalalignment='right')\n",
    "        i += 1\n",
    "\n",
    "\n",
    "        \n",
    "plt.tight_layout()\n",
    "plt.show()"
   ]
  },
  {
   "cell_type": "markdown",
   "metadata": {},
   "source": [
    "#### Comments:\n",
    "There is a clear decision boundary from the PCA on the 2-D graph so all three models have good performance. \n",
    "They are all strong enough to give over 90% accuracy store so all are powerful. \n",
    "\n",
    "KNN can be too sensitive to the noise so the performance could be depend on the train and test data. So after the application of PCA, the data is more structured with less noise so Logistics and Navie looks better then KNN.\n",
    "\n",
    "If possible, we probably could more focus on the data preprocessing. Maybe we can find a better way to seperate the two label group from the data."
   ]
  },
  {
   "cell_type": "markdown",
   "metadata": {},
   "source": [
    "## Naive Bayes for spam filtering. (15 points) \n",
    "\n",
    "In this problem, we will use the Naive Bayes algorithm to fit a spam filter by hand. This will enhance your understanding to Bayes classifier and build intuition. This question does not involve any programming but only derivation and hand calculation. \n",
    "\n",
    "Spam filters are used in all email services to classify received emails as \"Spam\" or \"Not Spam\". A simple approach involves maintaining a vocabulary of words that commonly occur in \"Spam\" emails and classifying an email as \"Spam\" if the number of words from the dictionary that are present in the email is over a certain threshold.\n",
    "\n",
    "We are given the vocabulary consists of 15 words $$V=\\{\\textsf{secret, offer, low, price, valued, customer, today, dollar, million, sports, is, for, play, healthy, pizza}\\}$$ We will use $V_i$ to represent the $i$th word in $V$. As our training dataset, we are also given 3 example spam messages,"
   ]
  },
  {
   "cell_type": "markdown",
   "metadata": {},
   "source": [
    "* $\\textsf{million dollar offer}$\n",
    "* $\\textsf{secret offer today}$\n",
    "* $\\textsf{secret is secret}$\n",
    "\n",
    "and 4 example non-spam messages\n",
    "* $\\textsf{low price for valued customer}$\n",
    "* $\\textsf{play secret sports today}$\n",
    "* $\\textsf{sports is healthy}$\n",
    "* $\\textsf{low price pizza}$\n",
    "\n",
    "Recall that the Naive Bayes classifier assumes the probability of an input depends on its input feature. The feature for each sample is defined as\n",
    "$x^{(i)} = [x_1^{(i)}, x_2^{(i)}, \\ldots, x_d^{(i)}]^T$, $i = 1, \\ldots, m$ and the class of the $i$th sample is $y^{(i)}$. In our case the length of the input vector is $d = 15$, which is equal to the number of words in the vocabulary $V$. Each entry $x_j^{(i)}$ is equal to the number of times word $V_j$ occurs in the $i$-th message. "
   ]
  },
  {
   "cell_type": "markdown",
   "metadata": {},
   "source": [
    "#### Answer:"
   ]
  },
  {
   "cell_type": "code",
   "execution_count": 405,
   "metadata": {},
   "outputs": [],
   "source": [
    "# List of spam keyword\n",
    "V = ['secret', 'offer', 'low', 'price', 'valued', 'customer', 'today', 'dollar', 'million', 'sports', 'is', 'for', 'play', 'healthy', 'pizza']"
   ]
  },
  {
   "cell_type": "markdown",
   "metadata": {},
   "source": [
    "#### (a)\n",
    "(5 points) Calculate class prior $\\mathbb P(y = 0)$ and $\\mathbb P(y = 1)$ from the training data, where $y = 0$ corresponds to spam messages, and $y = 1$ corresponds to non-spam messages. Note that these class prior essentially corresponds to the frequency of each class in the training sample. Write down the feature vectors for each spam and non-spam messages."
   ]
  },
  {
   "cell_type": "markdown",
   "metadata": {},
   "source": [
    "#### Answer:\n",
    "\n",
    "There are total of 7 examples given, 3 are spam and 4 are non-spam.\n",
    "<br>\n",
    "$$\\mathbb P(y = 0) = 3/7$$\n",
    "$$\\mathbb P(y = 1) = 4/7$$"
   ]
  },
  {
   "cell_type": "code",
   "execution_count": 406,
   "metadata": {},
   "outputs": [],
   "source": [
    "# list of exmple emails\n",
    "\n",
    "X_spam = ['million dollar offer','secret offer today','secret is secret']\n",
    "X_non_spam = ['low price for valued customer','play secret sports today','sports is healthy','low price pizza']"
   ]
  },
  {
   "cell_type": "code",
   "execution_count": 410,
   "metadata": {},
   "outputs": [
    {
     "data": {
      "text/plain": [
       "['million dollar offer',\n",
       " 'secret offer today',\n",
       " 'secret is secret',\n",
       " 'low price for valued customer',\n",
       " 'play secret sports today',\n",
       " 'sports is healthy',\n",
       " 'low price pizza']"
      ]
     },
     "execution_count": 410,
     "metadata": {},
     "output_type": "execute_result"
    }
   ],
   "source": [
    "X = X_spam + X_non_spam\n",
    "X"
   ]
  },
  {
   "cell_type": "code",
   "execution_count": 457,
   "metadata": {},
   "outputs": [
    {
     "name": "stdout",
     "output_type": "stream",
     "text": [
      "15\n",
      "7\n"
     ]
    }
   ],
   "source": [
    "# Put all the words into one list as key word list\n",
    "kw_ls = []\n",
    "em_ls = []\n",
    "for i in range(len(X)):\n",
    "    kw = X[i].split(' ')\n",
    "    kw_ls += kw\n",
    "    em_ls.append(kw)\n",
    "\n",
    "kw_set = list(set(kw_ls))\n",
    "print(len(kw_set))\n",
    "print(len(em_ls))"
   ]
  },
  {
   "cell_type": "markdown",
   "metadata": {},
   "source": [
    "#### Feature & Labels"
   ]
  },
  {
   "cell_type": "code",
   "execution_count": 458,
   "metadata": {},
   "outputs": [
    {
     "data": {
      "text/plain": [
       "['play',\n",
       " 'pizza',\n",
       " 'today',\n",
       " 'offer',\n",
       " 'low',\n",
       " 'customer',\n",
       " 'sports',\n",
       " 'secret',\n",
       " 'is',\n",
       " 'for',\n",
       " 'healthy',\n",
       " 'million',\n",
       " 'price',\n",
       " 'dollar',\n",
       " 'valued']"
      ]
     },
     "execution_count": 458,
     "metadata": {},
     "output_type": "execute_result"
    }
   ],
   "source": [
    "kw_set"
   ]
  },
  {
   "cell_type": "code",
   "execution_count": 459,
   "metadata": {},
   "outputs": [
    {
     "data": {
      "text/plain": [
       "[['million', 'dollar', 'offer'],\n",
       " ['secret', 'offer', 'today'],\n",
       " ['secret', 'is', 'secret'],\n",
       " ['low', 'price', 'for', 'valued', 'customer'],\n",
       " ['play', 'secret', 'sports', 'today'],\n",
       " ['sports', 'is', 'healthy'],\n",
       " ['low', 'price', 'pizza']]"
      ]
     },
     "execution_count": 459,
     "metadata": {},
     "output_type": "execute_result"
    }
   ],
   "source": [
    "em_ls"
   ]
  },
  {
   "cell_type": "code",
   "execution_count": 460,
   "metadata": {},
   "outputs": [],
   "source": [
    "feature_ls = []\n",
    "for em in em_ls:\n",
    "    feature = []\n",
    "    for kw in kw_set:\n",
    "        if kw in em:\n",
    "            feature.append(1)\n",
    "        else:\n",
    "            feature.append(0)\n",
    "    \n",
    "    feature_ls.append(feature)"
   ]
  },
  {
   "cell_type": "code",
   "execution_count": 461,
   "metadata": {},
   "outputs": [
    {
     "data": {
      "text/plain": [
       "array([[0, 0, 0, 1, 0, 0, 0, 0, 0, 0, 0, 1, 0, 1, 0],\n",
       "       [0, 0, 1, 1, 0, 0, 0, 1, 0, 0, 0, 0, 0, 0, 0],\n",
       "       [0, 0, 0, 0, 0, 0, 0, 1, 1, 0, 0, 0, 0, 0, 0],\n",
       "       [0, 0, 0, 0, 1, 1, 0, 0, 0, 1, 0, 0, 1, 0, 1],\n",
       "       [1, 0, 1, 0, 0, 0, 1, 1, 0, 0, 0, 0, 0, 0, 0],\n",
       "       [0, 0, 0, 0, 0, 0, 1, 0, 1, 0, 1, 0, 0, 0, 0],\n",
       "       [0, 1, 0, 0, 1, 0, 0, 0, 0, 0, 0, 0, 1, 0, 0]])"
      ]
     },
     "execution_count": 461,
     "metadata": {},
     "output_type": "execute_result"
    }
   ],
   "source": [
    "feature_array = np.vstack(feature_ls)\n",
    "feature_array"
   ]
  },
  {
   "cell_type": "code",
   "execution_count": 462,
   "metadata": {},
   "outputs": [
    {
     "data": {
      "text/plain": [
       "array([0, 0, 0, 1, 1, 1, 1])"
      ]
     },
     "execution_count": 462,
     "metadata": {},
     "output_type": "execute_result"
    }
   ],
   "source": [
    "y = np.array([0,0,0,1,1,1,1])\n",
    "y"
   ]
  },
  {
   "cell_type": "markdown",
   "metadata": {},
   "source": [
    "#### (b)\n",
    "(5 points) In the Naive Bayes model, assuming the keywords are independent of each other (this is a simplification), the likelihood of a sentence with its feature vector $x$ given a class $c$ is given by \n",
    "$$\n",
    "\\mathbb P (x|y = c) = \\prod_{k=1}^d \\theta_{c, k}^{x_k}, \\quad c = \\{0, 1\\}\n",
    "$$\n",
    "<br>\n",
    "where $0 \\leq \\theta_{c,k} \\leq 1$ is the probability of word $k$ appearing in class $c$, which satisfies <br>\n",
    "$$\\theta_{0,k} = 1- \\theta_{1, k} , \\quad \\forall k.$$ \n",
    "<br>\n",
    "Given this, the complete log-likelihood function for our training data is given by\n",
    "<br>\n",
    "$$\n",
    "\\ell(\\theta_{0,1}, \\ldots, \\theta_{0, d}, \\theta_{1,1}, \\ldots, \\theta_{1, d}) = \n",
    "\\sum_{i=1}^m \\sum_{k=1}^d x_k^{(i)} \\log \\theta_{y^{(i)}, k}\n",
    "$$\n",
    "<br>\n",
    "(In this example, $m = 7$.)\n",
    " Calculate the maximum likelihood estimates of $\\theta_{0,1}$, $\\theta_{0,7}$, $\\theta_{1,1}$, $\\theta_{1,15}$ by maximizing the log-likelihood function above.\n",
    " %$\\mathbb P (x|y = c)$ with respect to $\\theta_{c, k}$ and given data. \n",
    " (Hint: We are solving a constrained maximization problem: you can introduce Lagrangian multipliers, or directly substitute the $\\theta_{0,k} = 1- \\theta_{1, k}$ into the objective function so you do not need to worry about the constraint.)\n",
    "\n"
   ]
  },
  {
   "cell_type": "markdown",
   "metadata": {},
   "source": [
    "#### Answer:"
   ]
  },
  {
   "cell_type": "markdown",
   "metadata": {},
   "source": [
    "Posterior probability: \n",
    "<br>\n",
    "$$P(y = c|x) = \\frac{P(x|y = c)P(y)}{P(x)}=\\frac{P(x|y = c)P(y)}{\\sum P(x|y)P(y)}$$"
   ]
  },
  {
   "cell_type": "markdown",
   "metadata": {},
   "source": [
    "$$P(y|x) = P(X, y) = P(X_1, y_1) \\times P(X_2, y_2) \\times \\ ...\\times P(X_m, y_m)$$"
   ]
  },
  {
   "cell_type": "markdown",
   "metadata": {},
   "source": [
    "$$P(X, y) = \\prod^m_i P(X_i, y_i)$$\n",
    "$$P(X, y) = \\prod^m_i P(X_i|y_i)P(y_i)$$\n",
    "$$P(X, y) = \\prod^m_i (P(y_i) \\prod^d_k \\theta^{x_k}_{c,k})$$"
   ]
  },
  {
   "cell_type": "markdown",
   "metadata": {},
   "source": [
    "Log of probability:\n",
    "\n",
    "$$logP(X, y) = \\sum^m_i log\\left(P(y_i) \\prod \\theta^{x_k}_{c,k}\\right)$$"
   ]
  },
  {
   "cell_type": "markdown",
   "metadata": {},
   "source": [
    "With Constraint:\n",
    "$$\\sum \\theta_{c,k} = 1 $$"
   ]
  },
  {
   "cell_type": "markdown",
   "metadata": {},
   "source": [
    "With Lagrangian multiplier, the objective function is\n",
    "\n",
    "\n",
    "$$\\ell(\\theta) = \\sum^m_i \\left(log P(y_i) + \\sum^d_k log\\theta^{x_k}_{c,k}\\right) + \\lambda (\\sum \\theta_{c,k}-1)$$"
   ]
  },
  {
   "cell_type": "markdown",
   "metadata": {},
   "source": [
    "To Calculate the derivative of $\\theta$ for optimal point:\n",
    "\n",
    "$$ \\frac{d\\ell(\\theta)}{d\\theta} = 0$$"
   ]
  },
  {
   "cell_type": "markdown",
   "metadata": {},
   "source": [
    "$$ = \\frac{1}{\\theta_{c,k}}\\sum^m_i \\left( x^i_{c,k}\\right) + \\lambda$$"
   ]
  },
  {
   "cell_type": "markdown",
   "metadata": {},
   "source": [
    "So we have\n",
    "\n",
    "$$\\theta_{c,k}=-\\frac{\\sum^m_{i} x^i_{c,k} }{\\lambda}$$"
   ]
  },
  {
   "cell_type": "markdown",
   "metadata": {},
   "source": [
    "$$\\sum \\theta_{c,k} = 1$$\n",
    "<br>\n",
    "<br>\n",
    "$$\\frac{\\sum _{k=1}^{n} \\sum _{i=1}^{m} x^i_{c,k}}{\\lambda}=1$$\n",
    "\n",
    "In this way, we have:\n",
    "\n",
    "$$\\theta_{c,k} = \\frac{ \\sum _{i=1}^{m} x^i_{c,k}}{\\sum _{k=1}^{n} \\sum _{i=1}^{m} x^i_{c,k}}$$"
   ]
  },
  {
   "cell_type": "markdown",
   "metadata": {},
   "source": [
    "Calculate Probability:"
   ]
  },
  {
   "cell_type": "markdown",
   "metadata": {},
   "source": [
    "'secret' count (3) in all spam emails (9 words)\n",
    "$$\\theta_{0,1} = \\frac{1}{3}$$\n",
    "\n",
    "'today' count (1) in all spam emails (9 words)\n",
    "$$\\theta_{0,7} = \\frac{1}{9}$$\n",
    "\n",
    "'secret' count (1) in all non spam emails (15 words)\n",
    "$$\\theta_{1,1} = \\frac{1}{15}$$\n",
    "\n",
    "'pizza' count (1) in all non spam emails (15 words)\n",
    "$$\\theta_{1,15} = \\frac{1}{15}$$"
   ]
  },
  {
   "cell_type": "markdown",
   "metadata": {},
   "source": [
    "#### (c)\n",
    "Given a test message $\"\\textsf{today is secret}\"$, using the Naive Bayes classier that you have trained in Part (a)-(b), to calculate the posterior and decide whether it is spam or not spam."
   ]
  },
  {
   "cell_type": "code",
   "execution_count": 463,
   "metadata": {},
   "outputs": [],
   "source": [
    "# build feature vector of 'today is secret'\n",
    "test = ['today is secret']\n",
    "test_ls = []\n",
    "for em in test:\n",
    "    feature = []\n",
    "    for kw in kw_set:\n",
    "        if kw in em:\n",
    "            feature.append(1)\n",
    "        else:\n",
    "            feature.append(0)\n",
    "    \n",
    "    test_ls.append(feature)"
   ]
  },
  {
   "cell_type": "code",
   "execution_count": 487,
   "metadata": {},
   "outputs": [
    {
     "data": {
      "text/plain": [
       "array(['play', 'pizza', 'today', 'offer', 'low', 'customer', 'sports',\n",
       "       'secret', 'is', 'for', 'healthy', 'million', 'price', 'dollar',\n",
       "       'valued'], dtype='<U8')"
      ]
     },
     "execution_count": 487,
     "metadata": {},
     "output_type": "execute_result"
    }
   ],
   "source": [
    "np.array(kw_set)"
   ]
  },
  {
   "cell_type": "code",
   "execution_count": 472,
   "metadata": {},
   "outputs": [
    {
     "data": {
      "text/plain": [
       "array([[0, 0, 1, 0, 0, 0, 0, 1, 1, 0, 0, 0, 0, 0, 0]])"
      ]
     },
     "execution_count": 472,
     "metadata": {},
     "output_type": "execute_result"
    }
   ],
   "source": [
    "x_test = np.array(test_ls[0]).reshape(1,-1)\n",
    "x_test"
   ]
  },
  {
   "cell_type": "code",
   "execution_count": 503,
   "metadata": {},
   "outputs": [],
   "source": [
    "# use Naive Bayes Model with larger var_smoothing to smooth\n",
    "nb = GaussianNB(var_smoothing=1)"
   ]
  },
  {
   "cell_type": "code",
   "execution_count": 504,
   "metadata": {},
   "outputs": [
    {
     "data": {
      "text/plain": [
       "GaussianNB(var_smoothing=1)"
      ]
     },
     "execution_count": 504,
     "metadata": {},
     "output_type": "execute_result"
    }
   ],
   "source": [
    "# fit model with the feature array and y\n",
    "nb.fit(feature_array, y)"
   ]
  },
  {
   "cell_type": "code",
   "execution_count": 505,
   "metadata": {},
   "outputs": [
    {
     "data": {
      "text/plain": [
       "array([0])"
      ]
     },
     "execution_count": 505,
     "metadata": {},
     "output_type": "execute_result"
    }
   ],
   "source": [
    "# make prediction, the 0 means the test email is classified as spam\n",
    "nb.predict(x_test)"
   ]
  },
  {
   "cell_type": "code",
   "execution_count": 506,
   "metadata": {},
   "outputs": [
    {
     "data": {
      "text/plain": [
       "array([0.93976218, 0.06023782])"
      ]
     },
     "execution_count": 506,
     "metadata": {},
     "output_type": "execute_result"
    }
   ],
   "source": [
    "# posterior probabilty of test x in two classes, the probabliy in spam class is high\n",
    "nb.predict_proba(x_test)[0]"
   ]
  }
 ],
 "metadata": {
  "kernelspec": {
   "display_name": "Python 3",
   "language": "python",
   "name": "python3"
  },
  "language_info": {
   "codemirror_mode": {
    "name": "ipython",
    "version": 3
   },
   "file_extension": ".py",
   "mimetype": "text/x-python",
   "name": "python",
   "nbconvert_exporter": "python",
   "pygments_lexer": "ipython3",
   "version": "3.8.3"
  }
 },
 "nbformat": 4,
 "nbformat_minor": 4
}
